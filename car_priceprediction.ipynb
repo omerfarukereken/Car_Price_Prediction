{
 "cells": [
  {
   "cell_type": "markdown",
   "metadata": {},
   "source": [
    "<h1>Car Price Prediction</h1>\n"
   ]
  },
  {
   "cell_type": "code",
   "execution_count": 1,
   "metadata": {},
   "outputs": [],
   "source": [
    "import numpy as np\n",
    "import pandas as pd\n",
    "import json\n",
    "import re\n",
    "import matplotlib.pyplot as plt\n",
    "import seaborn as sns\n",
    "from scipy.stats.mstats import winsorize"
   ]
  },
  {
   "cell_type": "code",
   "execution_count": 2,
   "metadata": {},
   "outputs": [],
   "source": [
    "import warnings\n",
    "warnings.filterwarnings('ignore')\n",
    "warnings.warn(\"this will not show\")"
   ]
  },
  {
   "cell_type": "code",
   "execution_count": 3,
   "metadata": {},
   "outputs": [],
   "source": [
    "pd.set_option('display.max_columns', 500)\n",
    "pd.set_option('display.max_colwidth', 500)\n",
    "pd.set_option('display.max_info_columns', 500)\n",
    "pd.set_option('display.max_info_rows', 2000)\n",
    "pd.set_option('display.expand_frame_repr', True)\n",
    "pd.set_option('display.width', 2000)"
   ]
  },
  {
   "cell_type": "code",
   "execution_count": 4,
   "metadata": {},
   "outputs": [],
   "source": [
    "def show_nans(df, limit):\n",
    "    missing = df.isnull().mean()*100\n",
    "    return missing.loc[lambda x : x > limit] "
   ]
  },
  {
   "cell_type": "code",
   "execution_count": 5,
   "metadata": {},
   "outputs": [],
   "source": [
    "def n_sil(x):\n",
    "    for i in range(0, len(x)):\n",
    "        if isinstance(x[i], list):\n",
    "            for a in x[i]:\n",
    "                if a == \"\\n\":\n",
    "                    x[i].remove(a)\n",
    "                elif \"\\n\" in a:\n",
    "                    x[i].remove(a)\n",
    "                    b = a.replace(\"\\n\", \"\")\n",
    "                    x[i].append(b)\n",
    "        elif isinstance(x[i], str):\n",
    "            x[i] = x[i].replace(\"\\n\", \"\")"
   ]
  },
  {
   "cell_type": "code",
   "execution_count": 6,
   "metadata": {},
   "outputs": [],
   "source": [
    "def Nan_to_list(data, column_name):\n",
    "    NaN_rows = data[column_name].isnull()\n",
    "    # Change the type of NaNs from 'float' to (empty) 'list'\n",
    "    data.loc[NaN_rows, column_name] = data.loc[NaN_rows, column_name].apply(lambda x: [])"
   ]
  },
  {
   "cell_type": "code",
   "execution_count": 7,
   "metadata": {},
   "outputs": [],
   "source": [
    "def unique_values(data, column_name):\n",
    "    unique_vals = set()\n",
    "    for rows in data[column_name]:\n",
    "        unique_vals.update(rows)\n",
    "    return list(unique_vals)"
   ]
  },
  {
   "cell_type": "code",
   "execution_count": 8,
   "metadata": {},
   "outputs": [],
   "source": [
    "def fill_most(oto, group_col, col_name):\n",
    "    for group in list(oto[group_col].unique()):\n",
    "        try:\n",
    "            grp_inx = list(oto[oto[group_col] == group][col_name].index)\n",
    "            oto[col_name].iloc[grp_inx] = oto[col_name].iloc[grp_inx].fillna(oto[oto[group_col]==group][col_name].mode()[0])\n",
    "        except Exception as e:\n",
    "            print(\"{} 'da {} Error Oldu\".format(group, e))\n",
    "            print(\"devam ediliyor\")"
   ]
  },
  {
   "cell_type": "code",
   "execution_count": 9,
   "metadata": {},
   "outputs": [],
   "source": [
    "def liststring(df, col):             #Listeleri stringlere dönüştürür.\n",
    "    df[col] = [','.join(l) if type(l) == list else l for l in df[col]]\n",
    "    \n",
    "def emptytonan(df, col):             #Stringlerdeki boşlukları NaN'a dönüştürür.\n",
    "    df[col] = [np.NaN if len(l)==0 else l for l in df[col]]"
   ]
  },
  {
   "cell_type": "code",
   "execution_count": 10,
   "metadata": {},
   "outputs": [],
   "source": [
    "veri = []\n",
    "for line in open(\"scout_car.json\", \"r\"):\n",
    "    veri.append(json.loads(line))\n",
    "    \n",
    "#pd.read_json(\"scout_car.json\", lines = True)"
   ]
  },
  {
   "cell_type": "code",
   "execution_count": 11,
   "metadata": {},
   "outputs": [],
   "source": [
    "df = pd.DataFrame(veri)"
   ]
  },
  {
   "cell_type": "code",
   "execution_count": 12,
   "metadata": {},
   "outputs": [
    {
     "data": {
      "text/plain": [
       "(15919, 54)"
      ]
     },
     "execution_count": 12,
     "metadata": {},
     "output_type": "execute_result"
    }
   ],
   "source": [
    "df.shape"
   ]
  },
  {
   "cell_type": "code",
   "execution_count": 13,
   "metadata": {},
   "outputs": [],
   "source": [
    "df.rename(columns={\"\\nComfort & Convenience\\n\":\"Comfort & Convenience\", \"\\nEntertainment & Media\\n\":\"Entertainment & Media\", \"\\nExtras\\n\":\"Extras\", \"\\nSafety & Security\\n\":\"Safety & Security\"}, inplace=True)"
   ]
  },
  {
   "cell_type": "code",
   "execution_count": 14,
   "metadata": {},
   "outputs": [],
   "source": [
    "#Verilerin %60ından fazlası null olan sütunlar düşürüldü.\n",
    "df.drop([\"null\", \n",
    "         \"kW\", \n",
    "         \"Electricity consumption\", \n",
    "         \"Last Service Date\", \n",
    "         \"Other Fuel Types\", \n",
    "         \"Availability\", \n",
    "         \"Last Timing Belt Service Date\", \n",
    "         \"Available from\", \n",
    "         \"Inspection new\", \n",
    "         \"Emission Label\", \n",
    "         \"Model Code\"], axis=1, inplace=True)\n",
    "\n",
    "#Tekrarlı veya gereksiz sütunlar düşürüldü.Body=body_type idi.\n",
    "df.drop([\"Body\", \"Offer Number\", \"prev_owner\", \"Non-smoking Vehicle\", \n",
    "         \"Weight\", \"url\", \"Full Service\", \"First Registration\",\n",
    "        \"Body Color Original\", \"description\", \"short_description\"], axis=1, inplace=True)"
   ]
  },
  {
   "cell_type": "code",
   "execution_count": 15,
   "metadata": {
    "scrolled": false
   },
   "outputs": [
    {
     "data": {
      "text/plain": [
       "(15919, 32)"
      ]
     },
     "execution_count": 15,
     "metadata": {},
     "output_type": "execute_result"
    }
   ],
   "source": [
    "df.shape"
   ]
  },
  {
   "cell_type": "code",
   "execution_count": 16,
   "metadata": {},
   "outputs": [],
   "source": [
    "for i in df.columns:\n",
    "    Nan_to_list(df, i)"
   ]
  },
  {
   "cell_type": "code",
   "execution_count": 17,
   "metadata": {},
   "outputs": [],
   "source": [
    "yeni_list = []\n",
    "for i in df.columns[8:]:\n",
    "    yeni_list.append(i)"
   ]
  },
  {
   "cell_type": "code",
   "execution_count": 18,
   "metadata": {},
   "outputs": [
    {
     "data": {
      "text/plain": [
       "['Previous Owners',\n",
       " 'Next Inspection',\n",
       " 'Warranty',\n",
       " 'Make',\n",
       " 'Model',\n",
       " 'Body Color',\n",
       " 'Paint Type',\n",
       " 'Upholstery',\n",
       " 'Nr. of Doors',\n",
       " 'Nr. of Seats',\n",
       " 'Gearing Type',\n",
       " 'Displacement',\n",
       " 'Cylinders',\n",
       " 'Drive chain',\n",
       " 'Fuel',\n",
       " 'Consumption',\n",
       " 'CO2 Emission',\n",
       " 'Emission Class',\n",
       " 'Comfort & Convenience',\n",
       " 'Entertainment & Media',\n",
       " 'Extras',\n",
       " 'Safety & Security',\n",
       " 'Gears',\n",
       " 'Country version']"
      ]
     },
     "execution_count": 18,
     "metadata": {},
     "output_type": "execute_result"
    }
   ],
   "source": [
    "yeni_list"
   ]
  },
  {
   "cell_type": "code",
   "execution_count": 19,
   "metadata": {},
   "outputs": [],
   "source": [
    "for i in yeni_list:\n",
    "    n_sil(df[i])"
   ]
  },
  {
   "cell_type": "code",
   "execution_count": 20,
   "metadata": {},
   "outputs": [],
   "source": [
    "for i in yeni_list:\n",
    "    n_sil(df[i])"
   ]
  },
  {
   "cell_type": "code",
   "execution_count": 21,
   "metadata": {},
   "outputs": [],
   "source": [
    "df_ilk = df.copy()"
   ]
  },
  {
   "cell_type": "markdown",
   "metadata": {},
   "source": [
    "# Previous Owner"
   ]
  },
  {
   "cell_type": "code",
   "execution_count": 22,
   "metadata": {},
   "outputs": [],
   "source": [
    "def prev_own(df, clm):   #Prev Owner içinde sadece \"0\", \"1\", \"2\", \"3\", \"4\"(prev_owner'da sadece bu değerler olduğu için) olanları alır. \n",
    "    for i in range(0, len(df[clm])):\n",
    "        if type(df[clm][i]) == list:\n",
    "            for a in df[clm][i]:\n",
    "                if a in [\"0\", \"1\", \"2\", \"3\", \"4\"]:\n",
    "                    df[clm][i] = a"
   ]
  },
  {
   "cell_type": "code",
   "execution_count": 23,
   "metadata": {},
   "outputs": [],
   "source": [
    "prev_own(df, \"Previous Owners\")"
   ]
  },
  {
   "cell_type": "code",
   "execution_count": 24,
   "metadata": {},
   "outputs": [
    {
     "data": {
      "text/plain": [
       "1     8294\n",
       "[]    6640\n",
       "2      778\n",
       "0      188\n",
       "3       17\n",
       "4        2\n",
       "Name: Previous Owners, dtype: int64"
      ]
     },
     "execution_count": 24,
     "metadata": {},
     "output_type": "execute_result"
    }
   ],
   "source": [
    "df[\"Previous Owners\"].value_counts(dropna=False)"
   ]
  },
  {
   "cell_type": "code",
   "execution_count": 25,
   "metadata": {},
   "outputs": [],
   "source": [
    "df[\"Previous Owners\"][df.Type==\"New\"] = df[\"Previous Owners\"][df.Type==\"New\"].fillna(\"0\")"
   ]
  },
  {
   "cell_type": "code",
   "execution_count": 26,
   "metadata": {},
   "outputs": [],
   "source": [
    "emptytonan(df, \"Previous Owners\")"
   ]
  },
  {
   "cell_type": "code",
   "execution_count": 27,
   "metadata": {},
   "outputs": [
    {
     "name": "stdout",
     "output_type": "stream",
     "text": [
      "09/2019 'da index out of bounds Error Oldu\n",
      "devam ediliyor\n",
      "11/2019 'da index out of bounds Error Oldu\n",
      "devam ediliyor\n",
      "12/2019 'da index out of bounds Error Oldu\n",
      "devam ediliyor\n"
     ]
    }
   ],
   "source": [
    "fill_most(df, \"registration\", \"Previous Owners\")"
   ]
  },
  {
   "cell_type": "code",
   "execution_count": 28,
   "metadata": {},
   "outputs": [],
   "source": [
    "df[\"Previous Owners\"] = df[\"Previous Owners\"].fillna(\"1\")"
   ]
  },
  {
   "cell_type": "markdown",
   "metadata": {},
   "source": [
    "# Warranty"
   ]
  },
  {
   "cell_type": "code",
   "execution_count": 29,
   "metadata": {},
   "outputs": [],
   "source": [
    "def warranty(df, clm):   #Warranty sütunundaki alakasız bilgileri siler.\n",
    "    for i in range(0, len(df[clm])):\n",
    "        if type(df[clm][i]) == list:\n",
    "            df[clm][i] = [x for x in df[clm][i] if x.isnumeric() or \"month\" in x]\n",
    "        elif type(df[clm][i]) == str:\n",
    "            b = []\n",
    "            b.append(df[clm][i])\n",
    "            df[clm][i] = [x for x in b if x.isnumeric() or \"month\" in x]"
   ]
  },
  {
   "cell_type": "code",
   "execution_count": 30,
   "metadata": {},
   "outputs": [],
   "source": [
    "warranty(df, \"Warranty\")"
   ]
  },
  {
   "cell_type": "markdown",
   "metadata": {},
   "source": [
    "# Liste Boş Elemanları Silme"
   ]
  },
  {
   "cell_type": "code",
   "execution_count": 31,
   "metadata": {},
   "outputs": [],
   "source": [
    "def boslistsil(df, clm):       # Sütundaki listelerin içindeki boşlukları siler.\n",
    "    for i in range(0, len(df[clm])):\n",
    "        if type(df[clm][i]) == list:\n",
    "            df[clm][i] = [x for x in df[clm][i] if len(x)!=0]"
   ]
  },
  {
   "cell_type": "code",
   "execution_count": 32,
   "metadata": {},
   "outputs": [],
   "source": [
    "for i in [\"CO2 Emission\",\n",
    "         \"Emission Class\",\n",
    "         \"Type\"]:\n",
    "    boslistsil(df, i)"
   ]
  },
  {
   "cell_type": "markdown",
   "metadata": {},
   "source": [
    "# Listeler Stringe"
   ]
  },
  {
   "cell_type": "code",
   "execution_count": 33,
   "metadata": {},
   "outputs": [],
   "source": [
    "for i in [\"Warranty\", \n",
    "          \"Model\", \n",
    "          \"Body Color\",  \n",
    "          \"Upholstery\", \n",
    "          \"Nr. of Doors\",\n",
    "          \"Nr. of Seats\",\n",
    "          \"Gearing Type\",\n",
    "          \"Displacement\",\n",
    "          \"Cylinders\",\n",
    "          \"Drive chain\",\n",
    "          \"CO2 Emission\",\n",
    "          \"Emission Class\",\n",
    "          \"Paint Type\", \n",
    "          \"Country version\", \n",
    "          \"Gears\",\n",
    "          \"Next Inspection\"]:\n",
    "    try:\n",
    "        liststring(df, i)\n",
    "        emptytonan(df, i)\n",
    "    except:\n",
    "        print(\"{} 'da {} hatası çıktı\".format(i, Exception))"
   ]
  },
  {
   "cell_type": "markdown",
   "metadata": {},
   "source": [
    "# Fuel"
   ]
  },
  {
   "cell_type": "code",
   "execution_count": 34,
   "metadata": {},
   "outputs": [],
   "source": [
    "liststring(df, \"Fuel\")"
   ]
  },
  {
   "cell_type": "code",
   "execution_count": 35,
   "metadata": {},
   "outputs": [],
   "source": [
    "df.Fuel = df.Fuel.str.split(\"/\")"
   ]
  },
  {
   "cell_type": "code",
   "execution_count": 36,
   "metadata": {},
   "outputs": [
    {
     "data": {
      "text/plain": [
       "[Diesel (Particulate Filter)]                                                                                         4315\n",
       "[Super 95]                                                                                                            3338\n",
       "[Gasoline]                                                                                                            3175\n",
       "[Diesel]                                                                                                              2984\n",
       "[Super 95 ,  Regular, Benzine 91]                                                                                      424\n",
       "                                                                                                                      ... \n",
       "[Super Plus 98 ,  Super E10 95]                                                                                          1\n",
       "[Regular, Benzine 91 ,  Super 95 ,  Regular, Benzine E10 91 ,  Super E10 95 ,  Super Plus 98 ,  Super Plus E10 98]       1\n",
       "[Super 95 ,  Regular, Benzine 91 ,  Super Plus 98 ,  Regular, Benzine E10 91 ,  Super Plus E10 98 ,  Super E10 95]       1\n",
       "[Super 95 ,  Regular, Benzine 91 ,  Super E10 95 ,  Super Plus E10 98 ,  Super Plus 98]                                  1\n",
       "[Domestic gas H]                                                                                                         1\n",
       "Name: Fuel, Length: 77, dtype: int64"
      ]
     },
     "execution_count": 36,
     "metadata": {},
     "output_type": "execute_result"
    }
   ],
   "source": [
    "df.Fuel.value_counts()"
   ]
  },
  {
   "cell_type": "code",
   "execution_count": 37,
   "metadata": {},
   "outputs": [],
   "source": [
    "for i in range(0, len(df.Fuel)):\n",
    "    df.Fuel[i] = [b.strip() for b in df.Fuel[i]]"
   ]
  },
  {
   "cell_type": "code",
   "execution_count": 38,
   "metadata": {},
   "outputs": [],
   "source": [
    "liststring(df, \"Fuel\")"
   ]
  },
  {
   "cell_type": "markdown",
   "metadata": {},
   "source": [
    "# Type"
   ]
  },
  {
   "cell_type": "code",
   "execution_count": 39,
   "metadata": {},
   "outputs": [],
   "source": [
    "liststring(df, \"Type\")"
   ]
  },
  {
   "cell_type": "code",
   "execution_count": 40,
   "metadata": {},
   "outputs": [],
   "source": [
    "df.Type = df.Type.str.split(\"/\")"
   ]
  },
  {
   "cell_type": "code",
   "execution_count": 41,
   "metadata": {},
   "outputs": [],
   "source": [
    "for i in range(0, len(df.Type)):\n",
    "    df.Type[i] = [b.strip() for b in df.Type[i]]"
   ]
  },
  {
   "cell_type": "code",
   "execution_count": 42,
   "metadata": {},
   "outputs": [],
   "source": [
    "liststring(df, \"Type\")"
   ]
  },
  {
   "cell_type": "code",
   "execution_count": 43,
   "metadata": {},
   "outputs": [],
   "source": [
    "def conversion(df, clm, wtc=[]):\n",
    "    for i in wtc:\n",
    "        df[clm][df[clm].str.contains(i, regex=False)] = i"
   ]
  },
  {
   "cell_type": "code",
   "execution_count": 44,
   "metadata": {},
   "outputs": [],
   "source": [
    "conversion(df, \"Type\", wtc=[\"Used\", \"Pre-registered\", \"New\", \"Employee's car\", \"Demonstration\"])"
   ]
  },
  {
   "cell_type": "code",
   "execution_count": 45,
   "metadata": {},
   "outputs": [],
   "source": [
    "df.Type[df.Type == \"\"] = \"Used\""
   ]
  },
  {
   "cell_type": "markdown",
   "metadata": {},
   "source": [
    "# Warranty"
   ]
  },
  {
   "cell_type": "code",
   "execution_count": 46,
   "metadata": {},
   "outputs": [
    {
     "name": "stdout",
     "output_type": "stream",
     "text": [
      "Audi A2 'da index out of bounds Error Oldu\n",
      "devam ediliyor\n"
     ]
    }
   ],
   "source": [
    "fill_most(df, \"make_model\", \"Warranty\") #Warranty NANları silindi."
   ]
  },
  {
   "cell_type": "code",
   "execution_count": 47,
   "metadata": {},
   "outputs": [],
   "source": [
    "df.Warranty[df.Warranty.isnull()] = \"12 months\""
   ]
  },
  {
   "cell_type": "markdown",
   "metadata": {},
   "source": [
    "# body_type"
   ]
  },
  {
   "cell_type": "code",
   "execution_count": 48,
   "metadata": {},
   "outputs": [],
   "source": [
    "emptytonan(df, \"body_type\")"
   ]
  },
  {
   "cell_type": "code",
   "execution_count": 49,
   "metadata": {},
   "outputs": [],
   "source": [
    "fill_most(df, \"make_model\", \"body_type\")"
   ]
  },
  {
   "cell_type": "markdown",
   "metadata": {},
   "source": [
    "# vat"
   ]
  },
  {
   "cell_type": "code",
   "execution_count": 50,
   "metadata": {},
   "outputs": [],
   "source": [
    "liststring(df, \"vat\")"
   ]
  },
  {
   "cell_type": "code",
   "execution_count": 51,
   "metadata": {},
   "outputs": [],
   "source": [
    "emptytonan(df, \"vat\")"
   ]
  },
  {
   "cell_type": "code",
   "execution_count": 52,
   "metadata": {},
   "outputs": [],
   "source": [
    "fill_most(df, \"make_model\", \"vat\")"
   ]
  },
  {
   "cell_type": "markdown",
   "metadata": {},
   "source": [
    "# km"
   ]
  },
  {
   "cell_type": "code",
   "execution_count": 53,
   "metadata": {},
   "outputs": [],
   "source": [
    "df.km = df.km.str.strip(\" km\")"
   ]
  },
  {
   "cell_type": "code",
   "execution_count": 54,
   "metadata": {},
   "outputs": [],
   "source": [
    "df.km = df.km.str.replace(\",\", \"\")"
   ]
  },
  {
   "cell_type": "code",
   "execution_count": 55,
   "metadata": {},
   "outputs": [],
   "source": [
    "df.km[df.km.str[0]== \"-\"] = np.NaN"
   ]
  },
  {
   "cell_type": "code",
   "execution_count": 56,
   "metadata": {},
   "outputs": [],
   "source": [
    "fill_most(df, \"make_model\", \"km\")"
   ]
  },
  {
   "cell_type": "markdown",
   "metadata": {},
   "source": [
    "# registration"
   ]
  },
  {
   "cell_type": "code",
   "execution_count": 57,
   "metadata": {},
   "outputs": [],
   "source": [
    "df.registration[df.registration.str[0]== \"-\"] = np.NaN"
   ]
  },
  {
   "cell_type": "code",
   "execution_count": 58,
   "metadata": {},
   "outputs": [
    {
     "name": "stdout",
     "output_type": "stream",
     "text": [
      "0 'da index out of bounds Error Oldu\n",
      "devam ediliyor\n",
      "281 'da index out of bounds Error Oldu\n",
      "devam ediliyor\n",
      "196 'da index out of bounds Error Oldu\n",
      "devam ediliyor\n",
      "141 'da index out of bounds Error Oldu\n",
      "devam ediliyor\n",
      "68485 'da index out of bounds Error Oldu\n",
      "devam ediliyor\n",
      "81800 'da index out of bounds Error Oldu\n",
      "devam ediliyor\n",
      "142 'da index out of bounds Error Oldu\n",
      "devam ediliyor\n",
      "39962 'da index out of bounds Error Oldu\n",
      "devam ediliyor\n",
      "32084 'da index out of bounds Error Oldu\n",
      "devam ediliyor\n",
      "20768 'da index out of bounds Error Oldu\n",
      "devam ediliyor\n",
      "34164 'da index out of bounds Error Oldu\n",
      "devam ediliyor\n",
      "325 'da index out of bounds Error Oldu\n",
      "devam ediliyor\n",
      "89982 'da index out of bounds Error Oldu\n",
      "devam ediliyor\n",
      "77 'da index out of bounds Error Oldu\n",
      "devam ediliyor\n",
      "89692 'da index out of bounds Error Oldu\n",
      "devam ediliyor\n",
      "784 'da index out of bounds Error Oldu\n",
      "devam ediliyor\n",
      "497 'da index out of bounds Error Oldu\n",
      "devam ediliyor\n"
     ]
    }
   ],
   "source": [
    "fill_most(df, \"km\", \"registration\")"
   ]
  },
  {
   "cell_type": "code",
   "execution_count": 59,
   "metadata": {},
   "outputs": [],
   "source": [
    "df.registration.iloc[df[df.km==\"0\"].index] = df.registration.iloc[df[df.km==\"0\"].index].fillna(\"01/2020\")"
   ]
  },
  {
   "cell_type": "code",
   "execution_count": 60,
   "metadata": {},
   "outputs": [],
   "source": [
    "fill_most(df, \"make_model\", \"registration\")"
   ]
  },
  {
   "cell_type": "markdown",
   "metadata": {},
   "source": [
    "# hp"
   ]
  },
  {
   "cell_type": "code",
   "execution_count": 61,
   "metadata": {},
   "outputs": [],
   "source": [
    "df.hp = df.hp.str.replace(\" kW\", \"\")"
   ]
  },
  {
   "cell_type": "code",
   "execution_count": 62,
   "metadata": {},
   "outputs": [],
   "source": [
    "df.hp[df.hp.str[0]== \"-\"] = np.NaN"
   ]
  },
  {
   "cell_type": "code",
   "execution_count": 63,
   "metadata": {},
   "outputs": [],
   "source": [
    "fill_most(df, \"make_model\", \"hp\")"
   ]
  },
  {
   "cell_type": "markdown",
   "metadata": {},
   "source": [
    "# Previous Owner"
   ]
  },
  {
   "cell_type": "code",
   "execution_count": 64,
   "metadata": {},
   "outputs": [],
   "source": [
    "fill_most(df, \"registration\", \"Previous Owners\")"
   ]
  },
  {
   "cell_type": "code",
   "execution_count": 65,
   "metadata": {},
   "outputs": [],
   "source": [
    "df[\"Previous Owners\"] = df[\"Previous Owners\"].fillna(\"1\")"
   ]
  },
  {
   "cell_type": "markdown",
   "metadata": {},
   "source": [
    "# Body Color & Paint Type"
   ]
  },
  {
   "cell_type": "code",
   "execution_count": 66,
   "metadata": {},
   "outputs": [],
   "source": [
    "fill_most(df, \"make_model\", \"Body Color\")"
   ]
  },
  {
   "cell_type": "code",
   "execution_count": 67,
   "metadata": {},
   "outputs": [
    {
     "name": "stdout",
     "output_type": "stream",
     "text": [
      "Gold 'da index out of bounds Error Oldu\n",
      "devam ediliyor\n"
     ]
    }
   ],
   "source": [
    "fill_most(df, \"Body Color\", \"Paint Type\")"
   ]
  },
  {
   "cell_type": "code",
   "execution_count": 68,
   "metadata": {},
   "outputs": [],
   "source": [
    "df[\"Paint Type\"] = df[\"Paint Type\"].fillna(\"Perl effect\")"
   ]
  },
  {
   "cell_type": "markdown",
   "metadata": {},
   "source": [
    "# Upholstery"
   ]
  },
  {
   "cell_type": "code",
   "execution_count": 69,
   "metadata": {},
   "outputs": [],
   "source": [
    "fill_most(df, \"make_model\", \"Upholstery\")"
   ]
  },
  {
   "cell_type": "code",
   "execution_count": 70,
   "metadata": {},
   "outputs": [],
   "source": [
    "df.Upholstery[df.Upholstery==\"Other, Other\"] = \"Other\""
   ]
  },
  {
   "cell_type": "markdown",
   "metadata": {},
   "source": [
    "# Nr. of Doors & Nr. of Seats"
   ]
  },
  {
   "cell_type": "code",
   "execution_count": 71,
   "metadata": {},
   "outputs": [],
   "source": [
    "fill_most(df, \"make_model\", \"Nr. of Doors\")"
   ]
  },
  {
   "cell_type": "code",
   "execution_count": 72,
   "metadata": {},
   "outputs": [],
   "source": [
    "fill_most(df, \"make_model\", \"Nr. of Seats\")"
   ]
  },
  {
   "cell_type": "markdown",
   "metadata": {},
   "source": [
    "# Displacement"
   ]
  },
  {
   "cell_type": "code",
   "execution_count": 73,
   "metadata": {},
   "outputs": [],
   "source": [
    "df.Displacement = df.Displacement.str.replace(\" cc\", \"\")"
   ]
  },
  {
   "cell_type": "code",
   "execution_count": 74,
   "metadata": {},
   "outputs": [],
   "source": [
    "df.Displacement = df.Displacement.str.replace(\",\", \"\")"
   ]
  },
  {
   "cell_type": "code",
   "execution_count": 75,
   "metadata": {},
   "outputs": [],
   "source": [
    "fill_most(df, \"make_model\", \"Displacement\")"
   ]
  },
  {
   "cell_type": "markdown",
   "metadata": {},
   "source": [
    "# Cylinders"
   ]
  },
  {
   "cell_type": "code",
   "execution_count": 76,
   "metadata": {},
   "outputs": [
    {
     "name": "stdout",
     "output_type": "stream",
     "text": [
      "Audi A2 'da index out of bounds Error Oldu\n",
      "devam ediliyor\n"
     ]
    }
   ],
   "source": [
    "fill_most(df, \"make_model\", \"Cylinders\")"
   ]
  },
  {
   "cell_type": "code",
   "execution_count": 77,
   "metadata": {},
   "outputs": [],
   "source": [
    "df[\"Cylinders\"] = df[\"Cylinders\"].fillna(\"3\")"
   ]
  },
  {
   "cell_type": "markdown",
   "metadata": {},
   "source": [
    "# Drive chain"
   ]
  },
  {
   "cell_type": "code",
   "execution_count": 78,
   "metadata": {},
   "outputs": [],
   "source": [
    "fill_most(df, \"make_model\", \"Drive chain\")"
   ]
  },
  {
   "cell_type": "markdown",
   "metadata": {},
   "source": [
    "# Fuel"
   ]
  },
  {
   "cell_type": "code",
   "execution_count": 79,
   "metadata": {},
   "outputs": [],
   "source": [
    "conversion(df, \"Fuel\", wtc = [\"Electric,Gasoline\", \"Electric\", \"Diesel\", \"Benzine\", \"Gasoline\", \"gas\", \"Super\", \"CNG\", \"LPG\", \"Other\"])"
   ]
  },
  {
   "cell_type": "code",
   "execution_count": 80,
   "metadata": {},
   "outputs": [],
   "source": [
    "df.Fuel[df.Fuel==\"Super\"] = \"Benzine\""
   ]
  },
  {
   "cell_type": "code",
   "execution_count": 81,
   "metadata": {},
   "outputs": [],
   "source": [
    "df.Fuel[df.Fuel==\"gas\"] = \"Gasoline\""
   ]
  },
  {
   "cell_type": "code",
   "execution_count": 82,
   "metadata": {},
   "outputs": [],
   "source": [
    "df.Fuel[df.Fuel==\"CNG\"] = \"Gasoline\""
   ]
  },
  {
   "cell_type": "code",
   "execution_count": 83,
   "metadata": {},
   "outputs": [],
   "source": [
    "df.Fuel[df.Fuel==\"LPG\"] = \"Gasoline\""
   ]
  },
  {
   "cell_type": "code",
   "execution_count": 84,
   "metadata": {},
   "outputs": [],
   "source": [
    "df.Fuel[df.Fuel==\"Other\"] = \"Diesel\""
   ]
  },
  {
   "cell_type": "code",
   "execution_count": 85,
   "metadata": {},
   "outputs": [
    {
     "data": {
      "text/plain": [
       "Diesel      7305\n",
       "Benzine     5293\n",
       "Gasoline    3316\n",
       "Electric       5\n",
       "Name: Fuel, dtype: int64"
      ]
     },
     "execution_count": 85,
     "metadata": {},
     "output_type": "execute_result"
    }
   ],
   "source": [
    "df[\"Fuel\"].value_counts(dropna=False)"
   ]
  },
  {
   "cell_type": "markdown",
   "metadata": {},
   "source": [
    "# CO2"
   ]
  },
  {
   "cell_type": "code",
   "execution_count": 86,
   "metadata": {},
   "outputs": [],
   "source": [
    "df[\"CO2 Emission\"] = df[\"CO2 Emission\"].str.replace(' g CO2/km ', '')"
   ]
  },
  {
   "cell_type": "code",
   "execution_count": 87,
   "metadata": {},
   "outputs": [],
   "source": [
    "df[\"CO2 Emission\"] = df[\"CO2 Emission\"].str.strip('(comb)')"
   ]
  },
  {
   "cell_type": "code",
   "execution_count": 88,
   "metadata": {},
   "outputs": [],
   "source": [
    "df[\"CO2 Emission\"] = df[\"CO2 Emission\"].str.replace(',', '')"
   ]
  },
  {
   "cell_type": "code",
   "execution_count": 89,
   "metadata": {},
   "outputs": [],
   "source": [
    "df[\"CO2 Emission\"][(df[\"CO2 Emission\"]==\"Benzine\")|(df[\"CO2 Emission\"]==\"Gasoline\")|(df[\"CO2 Emission\"]==\"Diesel\")] = np.NaN"
   ]
  },
  {
   "cell_type": "code",
   "execution_count": 90,
   "metadata": {},
   "outputs": [],
   "source": [
    "fill_most(df, \"Fuel\", \"CO2 Emission\")"
   ]
  },
  {
   "cell_type": "markdown",
   "metadata": {},
   "source": [
    "# Emission Class"
   ]
  },
  {
   "cell_type": "code",
   "execution_count": 91,
   "metadata": {},
   "outputs": [],
   "source": [
    "df[\"Emission Class\"][(df[\"Emission Class\"]==\"Benzine\")|(df[\"Emission Class\"]==\"Gasoline\")|(df[\"Emission Class\"]==\"Diesel\")] = np.NaN"
   ]
  },
  {
   "cell_type": "code",
   "execution_count": 92,
   "metadata": {},
   "outputs": [],
   "source": [
    "df[\"Emission Class\"][(df[\"Emission Class\"]==\"Euro 6d\")] = \"Euro 6d-TEMP\""
   ]
  },
  {
   "cell_type": "code",
   "execution_count": 93,
   "metadata": {},
   "outputs": [
    {
     "name": "stdout",
     "output_type": "stream",
     "text": [
      "1060 'da index out of bounds Error Oldu\n",
      "devam ediliyor\n",
      "990 'da index out of bounds Error Oldu\n",
      "devam ediliyor\n",
      "5 'da index out of bounds Error Oldu\n",
      "devam ediliyor\n",
      "80 'da index out of bounds Error Oldu\n",
      "devam ediliyor\n",
      "14 'da index out of bounds Error Oldu\n",
      "devam ediliyor\n",
      "13983 'da index out of bounds Error Oldu\n",
      "devam ediliyor\n",
      "1 'da index out of bounds Error Oldu\n",
      "devam ediliyor\n"
     ]
    }
   ],
   "source": [
    "fill_most(df, \"CO2 Emission\", \"Emission Class\")"
   ]
  },
  {
   "cell_type": "code",
   "execution_count": 94,
   "metadata": {},
   "outputs": [],
   "source": [
    "df[\"Emission Class\"] = df[\"Emission Class\"].fillna(\"Euro 6\")"
   ]
  },
  {
   "cell_type": "markdown",
   "metadata": {},
   "source": [
    "# Gears"
   ]
  },
  {
   "cell_type": "code",
   "execution_count": 95,
   "metadata": {},
   "outputs": [],
   "source": [
    "df[\"Gears\"][(df[\"Gears\"]==\"Benzine\")|(df[\"Gears\"]==\"Gasoline\")|(df[\"Gears\"]==\"Diesel\")] = np.NaN"
   ]
  },
  {
   "cell_type": "code",
   "execution_count": 96,
   "metadata": {},
   "outputs": [
    {
     "name": "stdout",
     "output_type": "stream",
     "text": [
      "Audi A2 'da index out of bounds Error Oldu\n",
      "devam ediliyor\n"
     ]
    }
   ],
   "source": [
    "fill_most(df, \"make_model\", \"Gears\")"
   ]
  },
  {
   "cell_type": "code",
   "execution_count": 97,
   "metadata": {},
   "outputs": [],
   "source": [
    "df[\"Gears\"] = df[\"Gears\"].fillna(\"6\")"
   ]
  },
  {
   "cell_type": "markdown",
   "metadata": {},
   "source": [
    "# Country version"
   ]
  },
  {
   "cell_type": "code",
   "execution_count": 98,
   "metadata": {},
   "outputs": [],
   "source": [
    "fill_most(df, \"make_model\", \"Country version\")"
   ]
  },
  {
   "cell_type": "markdown",
   "metadata": {},
   "source": [
    "# Consumption"
   ]
  },
  {
   "cell_type": "code",
   "execution_count": 99,
   "metadata": {},
   "outputs": [],
   "source": [
    "df[\"Consumption\"] = df[\"Consumption\"].str[0].str[0].str.extract(\"(\\d.\\d|\\d)\")[0]"
   ]
  },
  {
   "cell_type": "code",
   "execution_count": 100,
   "metadata": {},
   "outputs": [],
   "source": [
    "fill_most(df, \"make_model\", \"Consumption\")"
   ]
  },
  {
   "cell_type": "markdown",
   "metadata": {},
   "source": [
    "# Next Inspection"
   ]
  },
  {
   "cell_type": "code",
   "execution_count": 101,
   "metadata": {},
   "outputs": [],
   "source": [
    "df[\"Next Inspection\"] = df[\"Next Inspection\"].str.extract(\"(\\d\\d/\\d\\d\\d\\d)\")[0]"
   ]
  },
  {
   "cell_type": "code",
   "execution_count": 102,
   "metadata": {},
   "outputs": [],
   "source": [
    "df[\"Next Inspection\"] = pd.to_datetime(df[\"Next Inspection\"], format=\"%m/%Y\")"
   ]
  },
  {
   "cell_type": "code",
   "execution_count": 103,
   "metadata": {},
   "outputs": [
    {
     "name": "stdout",
     "output_type": "stream",
     "text": [
      "01/2020 'da index 0 is out of bounds for axis 0 with size 0 Error Oldu\n",
      "devam ediliyor\n",
      "07/2019 'da index 0 is out of bounds for axis 0 with size 0 Error Oldu\n",
      "devam ediliyor\n",
      "08/2019 'da index 0 is out of bounds for axis 0 with size 0 Error Oldu\n",
      "devam ediliyor\n",
      "11/2019 'da index 0 is out of bounds for axis 0 with size 0 Error Oldu\n",
      "devam ediliyor\n"
     ]
    }
   ],
   "source": [
    "fill_most(df, \"registration\", \"Next Inspection\")"
   ]
  },
  {
   "cell_type": "code",
   "execution_count": 104,
   "metadata": {},
   "outputs": [],
   "source": [
    "fill_most(df, \"make_model\", \"Next Inspection\")"
   ]
  },
  {
   "cell_type": "markdown",
   "metadata": {},
   "source": [
    "# Comfort & Convenience"
   ]
  },
  {
   "cell_type": "code",
   "execution_count": 105,
   "metadata": {},
   "outputs": [],
   "source": [
    "liststring(df, \"Comfort & Convenience\")"
   ]
  },
  {
   "cell_type": "code",
   "execution_count": 106,
   "metadata": {},
   "outputs": [],
   "source": [
    "emptytonan(df, \"Comfort & Convenience\")"
   ]
  },
  {
   "cell_type": "code",
   "execution_count": 107,
   "metadata": {},
   "outputs": [],
   "source": [
    "fill_most(df, \"make_model\", \"Comfort & Convenience\")"
   ]
  },
  {
   "cell_type": "code",
   "execution_count": 108,
   "metadata": {},
   "outputs": [],
   "source": [
    "df = df.join(df[\"Comfort & Convenience\"].str.get_dummies(sep=\",\").add_prefix(\"cc_\"))"
   ]
  },
  {
   "cell_type": "markdown",
   "metadata": {},
   "source": [
    "# Entertainment & Media"
   ]
  },
  {
   "cell_type": "code",
   "execution_count": 109,
   "metadata": {},
   "outputs": [],
   "source": [
    "liststring(df, \"Entertainment & Media\")"
   ]
  },
  {
   "cell_type": "code",
   "execution_count": 110,
   "metadata": {},
   "outputs": [],
   "source": [
    "emptytonan(df, \"Entertainment & Media\")"
   ]
  },
  {
   "cell_type": "code",
   "execution_count": 111,
   "metadata": {},
   "outputs": [],
   "source": [
    "fill_most(df, \"make_model\", \"Entertainment & Media\")"
   ]
  },
  {
   "cell_type": "code",
   "execution_count": 112,
   "metadata": {},
   "outputs": [],
   "source": [
    "df = df.join(df[\"Entertainment & Media\"].str.get_dummies(sep=\",\").add_prefix(\"em_\"))"
   ]
  },
  {
   "cell_type": "markdown",
   "metadata": {},
   "source": [
    "# Extras"
   ]
  },
  {
   "cell_type": "code",
   "execution_count": 113,
   "metadata": {},
   "outputs": [],
   "source": [
    "liststring(df, \"Extras\")"
   ]
  },
  {
   "cell_type": "code",
   "execution_count": 114,
   "metadata": {},
   "outputs": [],
   "source": [
    "emptytonan(df, \"Extras\")"
   ]
  },
  {
   "cell_type": "code",
   "execution_count": 115,
   "metadata": {},
   "outputs": [],
   "source": [
    "fill_most(df, \"make_model\", \"Extras\")"
   ]
  },
  {
   "cell_type": "code",
   "execution_count": 116,
   "metadata": {},
   "outputs": [],
   "source": [
    "df = df.join(df[\"Extras\"].str.get_dummies(sep=\",\").add_prefix(\"ex_\"))"
   ]
  },
  {
   "cell_type": "markdown",
   "metadata": {},
   "source": [
    "# Safety & Security"
   ]
  },
  {
   "cell_type": "code",
   "execution_count": 117,
   "metadata": {},
   "outputs": [],
   "source": [
    "liststring(df, \"Safety & Security\")"
   ]
  },
  {
   "cell_type": "code",
   "execution_count": 118,
   "metadata": {},
   "outputs": [],
   "source": [
    "emptytonan(df, \"Safety & Security\")"
   ]
  },
  {
   "cell_type": "code",
   "execution_count": 119,
   "metadata": {},
   "outputs": [],
   "source": [
    "fill_most(df, \"make_model\", \"Safety & Security\")"
   ]
  },
  {
   "cell_type": "code",
   "execution_count": 120,
   "metadata": {},
   "outputs": [],
   "source": [
    "df = df.join(df[\"Safety & Security\"].str.get_dummies(sep=\",\").add_prefix(\"ss_\"))"
   ]
  },
  {
   "cell_type": "markdown",
   "metadata": {},
   "source": [
    "# Get_Dummies"
   ]
  },
  {
   "cell_type": "code",
   "execution_count": 121,
   "metadata": {},
   "outputs": [],
   "source": [
    "cat_list = [\"Make\", \"Paint Type\", \"make_model\", \"body_type\", \"vat\", \"Type\", \"Model\", \"Body Color\", \"Gearing Type\", \"Drive chain\", \"Fuel\", \"Emission Class\", \"Country version\"]"
   ]
  },
  {
   "cell_type": "code",
   "execution_count": 122,
   "metadata": {},
   "outputs": [],
   "source": [
    "df = df.join(df[\"Make\"].str.get_dummies(sep=\",\").add_prefix(\"mk_\"))"
   ]
  },
  {
   "cell_type": "code",
   "execution_count": 123,
   "metadata": {},
   "outputs": [],
   "source": [
    "df = df.join(df[\"Paint Type\"].str.get_dummies(sep=\",\").add_prefix(\"pt_\"))"
   ]
  },
  {
   "cell_type": "code",
   "execution_count": 124,
   "metadata": {},
   "outputs": [],
   "source": [
    "df = df.join(df[\"make_model\"].str.get_dummies(sep=\",\").add_prefix(\"mm_\"))"
   ]
  },
  {
   "cell_type": "code",
   "execution_count": 125,
   "metadata": {},
   "outputs": [],
   "source": [
    "df = df.join(df[\"body_type\"].str.get_dummies(sep=\",\").add_prefix(\"bt_\"))"
   ]
  },
  {
   "cell_type": "code",
   "execution_count": 126,
   "metadata": {},
   "outputs": [],
   "source": [
    "df = df.join(df[\"vat\"].str.get_dummies(sep=\",\").add_prefix(\"vat_\"))"
   ]
  },
  {
   "cell_type": "code",
   "execution_count": 127,
   "metadata": {},
   "outputs": [],
   "source": [
    "df = df.join(df[\"Type\"].str.get_dummies(sep=\",\").add_prefix(\"type_\"))"
   ]
  },
  {
   "cell_type": "code",
   "execution_count": 128,
   "metadata": {},
   "outputs": [],
   "source": [
    "df = df.join(df[\"Model\"].str.get_dummies(sep=\",\").add_prefix(\"model_\"))"
   ]
  },
  {
   "cell_type": "code",
   "execution_count": 129,
   "metadata": {},
   "outputs": [],
   "source": [
    "df = df.join(df[\"Body Color\"].str.get_dummies(sep=\",\").add_prefix(\"bc_\"))"
   ]
  },
  {
   "cell_type": "code",
   "execution_count": 130,
   "metadata": {},
   "outputs": [],
   "source": [
    "df = df.join(df[\"Gearing Type\"].str.get_dummies(sep=\",\").add_prefix(\"gt_\"))"
   ]
  },
  {
   "cell_type": "code",
   "execution_count": 131,
   "metadata": {},
   "outputs": [],
   "source": [
    "df = df.join(df[\"Drive chain\"].str.get_dummies(sep=\",\").add_prefix(\"dc_\"))"
   ]
  },
  {
   "cell_type": "code",
   "execution_count": 132,
   "metadata": {},
   "outputs": [],
   "source": [
    "df = df.join(df[\"Fuel\"].str.get_dummies(sep=\",\").add_prefix(\"fl_\"))"
   ]
  },
  {
   "cell_type": "code",
   "execution_count": 133,
   "metadata": {},
   "outputs": [],
   "source": [
    "df = df.join(df[\"Emission Class\"].str.get_dummies(sep=\",\").add_prefix(\"ec_\"))"
   ]
  },
  {
   "cell_type": "code",
   "execution_count": 134,
   "metadata": {},
   "outputs": [],
   "source": [
    "df = df.join(df[\"Country version\"].str.get_dummies(sep=\",\").add_prefix(\"cv_\"))"
   ]
  },
  {
   "cell_type": "code",
   "execution_count": 135,
   "metadata": {},
   "outputs": [],
   "source": [
    "df = df.drop([\"Make\", \"Paint Type\", \"body_type\", \"vat\", \"Type\", \"Model\", \"Body Color\", \"Gearing Type\", \"Drive chain\", \"Fuel\", \"Emission Class\", \"Country version\", \"Comfort & Convenience\", \"Entertainment & Media\", \"Extras\", \"Safety & Security\"], axis=1)"
   ]
  },
  {
   "cell_type": "markdown",
   "metadata": {},
   "source": [
    "# Upholstery"
   ]
  },
  {
   "cell_type": "code",
   "execution_count": 136,
   "metadata": {},
   "outputs": [],
   "source": [
    "df[\"Upsurf\"] = df[\"Upholstery\"].str.split(\",\").str[0][df[\"Upholstery\"].str.split(\",\").str[0].str.contains(\"Cloth|Part leather|Full leather|Velour|alcantara\")]"
   ]
  },
  {
   "cell_type": "code",
   "execution_count": 137,
   "metadata": {},
   "outputs": [],
   "source": [
    "fill_most(df, \"make_model\", \"Upsurf\")"
   ]
  },
  {
   "cell_type": "code",
   "execution_count": 138,
   "metadata": {},
   "outputs": [],
   "source": [
    "df[\"Upcolor\"] = df[\"Upholstery\"].str.split(\",\").str[-1][df[\"Upholstery\"].str.split(\",\").str[-1].str.contains(\" Black| Grey| Brown|Black|Grey| Beige| Blue|Brown| White| Red| Yellow|Blue|White| Orange\")]"
   ]
  },
  {
   "cell_type": "code",
   "execution_count": 139,
   "metadata": {},
   "outputs": [],
   "source": [
    "df[\"Upcolor\"] = df[\"Upcolor\"].str.strip()"
   ]
  },
  {
   "cell_type": "code",
   "execution_count": 140,
   "metadata": {},
   "outputs": [],
   "source": [
    "fill_most(df, \"Upsurf\", \"Upcolor\")"
   ]
  },
  {
   "cell_type": "code",
   "execution_count": 141,
   "metadata": {},
   "outputs": [],
   "source": [
    "df = pd.get_dummies(data=df, columns=[\"Upsurf\", \"Upcolor\"])"
   ]
  },
  {
   "cell_type": "code",
   "execution_count": 142,
   "metadata": {},
   "outputs": [],
   "source": [
    "df.drop([\"make_model\", \"Upholstery\"], axis=1, inplace=True)"
   ]
  },
  {
   "cell_type": "markdown",
   "metadata": {},
   "source": [
    "# Warranty"
   ]
  },
  {
   "cell_type": "code",
   "execution_count": 143,
   "metadata": {},
   "outputs": [],
   "source": [
    "df.Warranty = df.Warranty.str.extract(\"(\\d\\d|\\d)\")[0]"
   ]
  },
  {
   "cell_type": "code",
   "execution_count": 144,
   "metadata": {},
   "outputs": [],
   "source": [
    "df.Warranty = df.Warranty.astype(\"int\")"
   ]
  },
  {
   "cell_type": "markdown",
   "metadata": {},
   "source": [
    "# registration"
   ]
  },
  {
   "cell_type": "code",
   "execution_count": 145,
   "metadata": {},
   "outputs": [],
   "source": [
    "df.registration = pd.to_datetime(df.registration, format=\"%m/%Y\")"
   ]
  },
  {
   "cell_type": "markdown",
   "metadata": {},
   "source": [
    "# Gears"
   ]
  },
  {
   "cell_type": "code",
   "execution_count": 146,
   "metadata": {},
   "outputs": [],
   "source": [
    "df.Gears = df.Gears.astype(\"int\")"
   ]
  },
  {
   "cell_type": "code",
   "execution_count": 147,
   "metadata": {},
   "outputs": [],
   "source": [
    "df.Gears[df.Gears>8] = 6"
   ]
  },
  {
   "cell_type": "code",
   "execution_count": 148,
   "metadata": {},
   "outputs": [],
   "source": [
    "Gearswin = winsorize(df.Gears, (0.01, 0.01))"
   ]
  },
  {
   "cell_type": "code",
   "execution_count": 149,
   "metadata": {},
   "outputs": [],
   "source": [
    "df[\"Gears\"] = pd.DataFrame(Gearswin)[0]"
   ]
  },
  {
   "cell_type": "markdown",
   "metadata": {},
   "source": [
    "# CO2 Emission"
   ]
  },
  {
   "cell_type": "code",
   "execution_count": 150,
   "metadata": {},
   "outputs": [],
   "source": [
    "df[\"CO2 Emission\"] = df[\"CO2 Emission\"].astype(\"int\")"
   ]
  },
  {
   "cell_type": "code",
   "execution_count": 151,
   "metadata": {},
   "outputs": [
    {
     "data": {
      "text/plain": [
       "count    15919.000000\n",
       "mean       121.500471\n",
       "std        248.536459\n",
       "min          0.000000\n",
       "25%        102.000000\n",
       "50%        116.000000\n",
       "75%        127.000000\n",
       "max      14457.000000\n",
       "Name: CO2 Emission, dtype: float64"
      ]
     },
     "execution_count": 151,
     "metadata": {},
     "output_type": "execute_result"
    }
   ],
   "source": [
    "df[\"CO2 Emission\"].describe()"
   ]
  },
  {
   "cell_type": "code",
   "execution_count": 152,
   "metadata": {},
   "outputs": [],
   "source": [
    "co2 = winsorize(df[\"CO2 Emission\"], (0.01, 0.02))"
   ]
  },
  {
   "cell_type": "code",
   "execution_count": 153,
   "metadata": {},
   "outputs": [],
   "source": [
    "df[\"CO2 Emission\"] = pd.DataFrame(co2)[0]"
   ]
  },
  {
   "cell_type": "markdown",
   "metadata": {},
   "source": [
    "# Consumption"
   ]
  },
  {
   "cell_type": "code",
   "execution_count": 154,
   "metadata": {},
   "outputs": [],
   "source": [
    "df[\"Consumption\"] = df[\"Consumption\"].astype(\"float\")"
   ]
  },
  {
   "cell_type": "code",
   "execution_count": 155,
   "metadata": {},
   "outputs": [],
   "source": [
    "consump = winsorize(df[\"Consumption\"], (0.01, 0.01))"
   ]
  },
  {
   "cell_type": "code",
   "execution_count": 156,
   "metadata": {},
   "outputs": [],
   "source": [
    "df[\"Consumption\"] = pd.DataFrame(consump)[0]"
   ]
  },
  {
   "cell_type": "markdown",
   "metadata": {},
   "source": [
    "# Cylinders"
   ]
  },
  {
   "cell_type": "code",
   "execution_count": 157,
   "metadata": {},
   "outputs": [],
   "source": [
    "df[\"Cylinders\"] = df[\"Cylinders\"].astype(\"int\")"
   ]
  },
  {
   "cell_type": "code",
   "execution_count": 158,
   "metadata": {},
   "outputs": [],
   "source": [
    "win = winsorize(df[\"Cylinders\"], (0.01, 0.01))"
   ]
  },
  {
   "cell_type": "code",
   "execution_count": 159,
   "metadata": {},
   "outputs": [],
   "source": [
    "df[\"Cylinders\"] = pd.DataFrame(win)[0]"
   ]
  },
  {
   "cell_type": "markdown",
   "metadata": {},
   "source": [
    "# Displacement"
   ]
  },
  {
   "cell_type": "code",
   "execution_count": 160,
   "metadata": {},
   "outputs": [],
   "source": [
    "df[\"Displacement\"] = df[\"Displacement\"].astype(\"int\")"
   ]
  },
  {
   "cell_type": "code",
   "execution_count": 161,
   "metadata": {},
   "outputs": [],
   "source": [
    "win = winsorize(df[\"Displacement\"], (0.01, 0.01))"
   ]
  },
  {
   "cell_type": "code",
   "execution_count": 162,
   "metadata": {},
   "outputs": [],
   "source": [
    "df[\"Displacement\"] = pd.DataFrame(win)[0]"
   ]
  },
  {
   "cell_type": "markdown",
   "metadata": {},
   "source": [
    "# Nr. of Seats"
   ]
  },
  {
   "cell_type": "code",
   "execution_count": 163,
   "metadata": {},
   "outputs": [],
   "source": [
    "df[\"Nr. of Seats\"] = df[\"Nr. of Seats\"].astype(\"int\")"
   ]
  },
  {
   "cell_type": "code",
   "execution_count": 164,
   "metadata": {},
   "outputs": [],
   "source": [
    "win = winsorize(df[\"Nr. of Seats\"], (0.01, 0.01))"
   ]
  },
  {
   "cell_type": "code",
   "execution_count": 165,
   "metadata": {},
   "outputs": [],
   "source": [
    "df[\"Nr. of Seats\"] = pd.DataFrame(win)[0]"
   ]
  },
  {
   "cell_type": "markdown",
   "metadata": {},
   "source": [
    "# Nr. of Doors"
   ]
  },
  {
   "cell_type": "code",
   "execution_count": 166,
   "metadata": {},
   "outputs": [],
   "source": [
    "df[\"Nr. of Doors\"] = df[\"Nr. of Doors\"].astype(\"int\")"
   ]
  },
  {
   "cell_type": "code",
   "execution_count": 167,
   "metadata": {},
   "outputs": [],
   "source": [
    "win = winsorize(df[\"Nr. of Doors\"], (0.01, 0.01))"
   ]
  },
  {
   "cell_type": "code",
   "execution_count": 168,
   "metadata": {},
   "outputs": [],
   "source": [
    "df[\"Nr. of Doors\"] = pd.DataFrame(win)[0]"
   ]
  },
  {
   "cell_type": "markdown",
   "metadata": {},
   "source": [
    "# Previous Owners"
   ]
  },
  {
   "cell_type": "code",
   "execution_count": 169,
   "metadata": {
    "scrolled": true
   },
   "outputs": [
    {
     "data": {
      "text/plain": [
       "1    13520\n",
       "0     1602\n",
       "2      778\n",
       "3       17\n",
       "4        2\n",
       "Name: Previous Owners, dtype: int64"
      ]
     },
     "execution_count": 169,
     "metadata": {},
     "output_type": "execute_result"
    }
   ],
   "source": [
    "df[\"Previous Owners\"].value_counts(dropna=False)"
   ]
  },
  {
   "cell_type": "code",
   "execution_count": 170,
   "metadata": {},
   "outputs": [],
   "source": [
    "df[\"Previous Owners\"] = df[\"Previous Owners\"].astype(\"int\")"
   ]
  },
  {
   "cell_type": "markdown",
   "metadata": {},
   "source": [
    "# hp"
   ]
  },
  {
   "cell_type": "code",
   "execution_count": 171,
   "metadata": {},
   "outputs": [],
   "source": [
    "df[\"hp\"] = df[\"hp\"].astype(\"int\")"
   ]
  },
  {
   "cell_type": "code",
   "execution_count": 172,
   "metadata": {},
   "outputs": [],
   "source": [
    "win = winsorize(df[\"hp\"], (0.01, 0.03))"
   ]
  },
  {
   "cell_type": "code",
   "execution_count": 173,
   "metadata": {},
   "outputs": [],
   "source": [
    "df[\"hp\"] = pd.DataFrame(win)[0]"
   ]
  },
  {
   "cell_type": "markdown",
   "metadata": {},
   "source": [
    "# km"
   ]
  },
  {
   "cell_type": "code",
   "execution_count": 174,
   "metadata": {},
   "outputs": [],
   "source": [
    "df[\"km\"] = df[\"km\"].astype(\"int\")"
   ]
  },
  {
   "cell_type": "code",
   "execution_count": 175,
   "metadata": {},
   "outputs": [],
   "source": [
    "win = winsorize(df[\"km\"], (0.01, 0.02))"
   ]
  },
  {
   "cell_type": "code",
   "execution_count": 176,
   "metadata": {},
   "outputs": [],
   "source": [
    "df[\"km\"] = pd.DataFrame(win)[0]"
   ]
  },
  {
   "cell_type": "markdown",
   "metadata": {},
   "source": [
    "# Price"
   ]
  },
  {
   "cell_type": "code",
   "execution_count": 177,
   "metadata": {},
   "outputs": [],
   "source": [
    "df[\"price\"] = df[\"price\"].astype(\"int\")"
   ]
  },
  {
   "cell_type": "code",
   "execution_count": 178,
   "metadata": {},
   "outputs": [],
   "source": [
    "win = winsorize(df[\"price\"], (0.01, 0.02))"
   ]
  },
  {
   "cell_type": "code",
   "execution_count": 179,
   "metadata": {},
   "outputs": [],
   "source": [
    "df[\"price\"] = pd.DataFrame(win)[0]"
   ]
  },
  {
   "cell_type": "markdown",
   "metadata": {},
   "source": [
    "# Tipleri Ayarlama"
   ]
  },
  {
   "cell_type": "code",
   "execution_count": 180,
   "metadata": {},
   "outputs": [],
   "source": [
    "for i in df.iloc[:, 200:214].columns:\n",
    "    df[i] = df[i].astype(\"int64\")"
   ]
  },
  {
   "cell_type": "code",
   "execution_count": 181,
   "metadata": {},
   "outputs": [],
   "source": [
    "for i in [\"price\", \"km\", \"hp\", \"Previous Owners\", \"Warranty\", \"Nr. of Doors\", \"Nr. of Seats\", \"Displacement\", \"Cylinders\", \"CO2 Emission\", \"Gears\"]:\n",
    "    df[i] = df[i].astype(\"int64\")"
   ]
  },
  {
   "cell_type": "markdown",
   "metadata": {},
   "source": [
    "# Datetimelar"
   ]
  },
  {
   "cell_type": "code",
   "execution_count": 182,
   "metadata": {},
   "outputs": [
    {
     "data": {
      "text/plain": [
       "Int64Index([1169, 3308, 4250, 6674, 7155, 7837, 7893, 13068, 13332], dtype='int64')"
      ]
     },
     "execution_count": 182,
     "metadata": {},
     "output_type": "execute_result"
    }
   ],
   "source": [
    "df[\"Next Inspection\"][df[\"Next Inspection\"]<\"2016-01-01\"].index"
   ]
  },
  {
   "cell_type": "code",
   "execution_count": 183,
   "metadata": {},
   "outputs": [],
   "source": [
    "for i in [1169, 3308, 4250, 6674, 7155, 7837, 7893, 13068, 13332]:\n",
    "    df[\"Next Inspection\"][i] = df[\"Next Inspection\"][13234]"
   ]
  },
  {
   "cell_type": "code",
   "execution_count": 184,
   "metadata": {},
   "outputs": [],
   "source": [
    "df[\"age_year\"] = df[\"registration\"].apply(lambda x: 2019-int(x.strftime('%Y')))"
   ]
  },
  {
   "cell_type": "code",
   "execution_count": 185,
   "metadata": {},
   "outputs": [],
   "source": [
    "df[\"age_year\"][df[\"age_year\"]<0] = 0"
   ]
  },
  {
   "cell_type": "code",
   "execution_count": 186,
   "metadata": {},
   "outputs": [
    {
     "data": {
      "text/plain": [
       "1    4525\n",
       "0    4444\n",
       "3    3675\n",
       "2    3275\n",
       "Name: age_year, dtype: int64"
      ]
     },
     "execution_count": 186,
     "metadata": {},
     "output_type": "execute_result"
    }
   ],
   "source": [
    "df[\"age_year\"].value_counts()"
   ]
  },
  {
   "cell_type": "code",
   "execution_count": 187,
   "metadata": {},
   "outputs": [],
   "source": [
    "df[\"yeartoinspection\"] = df[\"Next Inspection\"].apply(lambda x: int(x.strftime('%Y'))-2019)"
   ]
  },
  {
   "cell_type": "code",
   "execution_count": 188,
   "metadata": {},
   "outputs": [],
   "source": [
    "df[\"yeartoinspection\"][df[\"yeartoinspection\"]<0] = 0"
   ]
  },
  {
   "cell_type": "code",
   "execution_count": 189,
   "metadata": {},
   "outputs": [
    {
     "data": {
      "text/plain": [
       "2    6761\n",
       "3    4280\n",
       "1    3291\n",
       "0    1539\n",
       "4      47\n",
       "5       1\n",
       "Name: yeartoinspection, dtype: int64"
      ]
     },
     "execution_count": 189,
     "metadata": {},
     "output_type": "execute_result"
    }
   ],
   "source": [
    "df[\"yeartoinspection\"].value_counts()"
   ]
  },
  {
   "cell_type": "code",
   "execution_count": 190,
   "metadata": {},
   "outputs": [],
   "source": [
    "df.drop([\"registration\", \"Next Inspection\"], axis=1, inplace=True)"
   ]
  },
  {
   "cell_type": "markdown",
   "metadata": {},
   "source": [
    "# SONUÇ"
   ]
  },
  {
   "cell_type": "code",
   "execution_count": 195,
   "metadata": {},
   "outputs": [],
   "source": [
    "pd.set_option('display.max_columns', None)\n",
    "pd.set_option('display.max_rows', 100)"
   ]
  },
  {
   "cell_type": "code",
   "execution_count": 192,
   "metadata": {},
   "outputs": [
    {
     "data": {
      "text/plain": [
       "price               0\n",
       "km                  0\n",
       "hp                  0\n",
       "Previous Owners     0\n",
       "Warranty            0\n",
       "                   ..\n",
       "Upcolor_Red         0\n",
       "Upcolor_White       0\n",
       "Upcolor_Yellow      0\n",
       "age_year            0\n",
       "yeartoinspection    0\n",
       "Length: 214, dtype: int64"
      ]
     },
     "execution_count": 192,
     "metadata": {},
     "output_type": "execute_result"
    }
   ],
   "source": [
    "df.isnull().sum()"
   ]
  },
  {
   "cell_type": "code",
   "execution_count": 193,
   "metadata": {},
   "outputs": [
    {
     "data": {
      "text/html": [
       "<div>\n",
       "<style scoped>\n",
       "    .dataframe tbody tr th:only-of-type {\n",
       "        vertical-align: middle;\n",
       "    }\n",
       "\n",
       "    .dataframe tbody tr th {\n",
       "        vertical-align: top;\n",
       "    }\n",
       "\n",
       "    .dataframe thead th {\n",
       "        text-align: right;\n",
       "    }\n",
       "</style>\n",
       "<table border=\"1\" class=\"dataframe\">\n",
       "  <thead>\n",
       "    <tr style=\"text-align: right;\">\n",
       "      <th></th>\n",
       "      <th>price</th>\n",
       "      <th>km</th>\n",
       "      <th>hp</th>\n",
       "      <th>Previous Owners</th>\n",
       "      <th>Warranty</th>\n",
       "      <th>Nr. of Doors</th>\n",
       "      <th>Nr. of Seats</th>\n",
       "      <th>Displacement</th>\n",
       "      <th>Cylinders</th>\n",
       "      <th>Consumption</th>\n",
       "      <th>CO2 Emission</th>\n",
       "      <th>Gears</th>\n",
       "      <th>cc_Air conditioning</th>\n",
       "      <th>cc_Air suspension</th>\n",
       "      <th>cc_Armrest</th>\n",
       "      <th>cc_Automatic climate control</th>\n",
       "      <th>cc_Auxiliary heating</th>\n",
       "      <th>cc_Cruise control</th>\n",
       "      <th>cc_Electric Starter</th>\n",
       "      <th>cc_Electric tailgate</th>\n",
       "      <th>cc_Electrical side mirrors</th>\n",
       "      <th>cc_Electrically adjustable seats</th>\n",
       "      <th>cc_Electrically heated windshield</th>\n",
       "      <th>cc_Heads-up display</th>\n",
       "      <th>cc_Heated steering wheel</th>\n",
       "      <th>cc_Hill Holder</th>\n",
       "      <th>cc_Keyless central door lock</th>\n",
       "      <th>cc_Leather seats</th>\n",
       "      <th>cc_Leather steering wheel</th>\n",
       "      <th>cc_Light sensor</th>\n",
       "      <th>cc_Lumbar support</th>\n",
       "      <th>cc_Massage seats</th>\n",
       "      <th>cc_Multi-function steering wheel</th>\n",
       "      <th>cc_Navigation system</th>\n",
       "      <th>cc_Panorama roof</th>\n",
       "      <th>cc_Park Distance Control</th>\n",
       "      <th>cc_Parking assist system camera</th>\n",
       "      <th>cc_Parking assist system self-steering</th>\n",
       "      <th>cc_Parking assist system sensors front</th>\n",
       "      <th>cc_Parking assist system sensors rear</th>\n",
       "      <th>cc_Power windows</th>\n",
       "      <th>cc_Rain sensor</th>\n",
       "      <th>cc_Seat heating</th>\n",
       "      <th>cc_Seat ventilation</th>\n",
       "      <th>cc_Split rear seats</th>\n",
       "      <th>cc_Start-stop system</th>\n",
       "      <th>cc_Sunroof</th>\n",
       "      <th>cc_Tinted windows</th>\n",
       "      <th>cc_Wind deflector</th>\n",
       "      <th>cc_Windshield</th>\n",
       "      <th>...</th>\n",
       "      <th>dc_front</th>\n",
       "      <th>dc_rear</th>\n",
       "      <th>fl_Benzine</th>\n",
       "      <th>fl_Diesel</th>\n",
       "      <th>fl_Electric</th>\n",
       "      <th>fl_Gasoline</th>\n",
       "      <th>ec_Euro 4</th>\n",
       "      <th>ec_Euro 5</th>\n",
       "      <th>ec_Euro 6</th>\n",
       "      <th>ec_Euro 6c</th>\n",
       "      <th>ec_Euro 6d-TEMP</th>\n",
       "      <th>cv_Austria</th>\n",
       "      <th>cv_Belgium</th>\n",
       "      <th>cv_Bulgaria</th>\n",
       "      <th>cv_Croatia</th>\n",
       "      <th>cv_Czech Republic</th>\n",
       "      <th>cv_Denmark</th>\n",
       "      <th>cv_Egypt</th>\n",
       "      <th>cv_European Union</th>\n",
       "      <th>cv_France</th>\n",
       "      <th>cv_Germany</th>\n",
       "      <th>cv_Hungary</th>\n",
       "      <th>cv_Italy</th>\n",
       "      <th>cv_Japan</th>\n",
       "      <th>cv_Luxembourg</th>\n",
       "      <th>cv_Netherlands</th>\n",
       "      <th>cv_Poland</th>\n",
       "      <th>cv_Romania</th>\n",
       "      <th>cv_Serbia</th>\n",
       "      <th>cv_Slovakia</th>\n",
       "      <th>cv_Slovenia</th>\n",
       "      <th>cv_Spain</th>\n",
       "      <th>cv_Sweden</th>\n",
       "      <th>cv_Switzerland</th>\n",
       "      <th>Upsurf_Cloth</th>\n",
       "      <th>Upsurf_Full leather</th>\n",
       "      <th>Upsurf_Part leather</th>\n",
       "      <th>Upsurf_Velour</th>\n",
       "      <th>Upsurf_alcantara</th>\n",
       "      <th>Upcolor_Beige</th>\n",
       "      <th>Upcolor_Black</th>\n",
       "      <th>Upcolor_Blue</th>\n",
       "      <th>Upcolor_Brown</th>\n",
       "      <th>Upcolor_Grey</th>\n",
       "      <th>Upcolor_Orange</th>\n",
       "      <th>Upcolor_Red</th>\n",
       "      <th>Upcolor_White</th>\n",
       "      <th>Upcolor_Yellow</th>\n",
       "      <th>age_year</th>\n",
       "      <th>yeartoinspection</th>\n",
       "    </tr>\n",
       "  </thead>\n",
       "  <tbody>\n",
       "    <tr>\n",
       "      <th>count</th>\n",
       "      <td>15919.000000</td>\n",
       "      <td>15919.000000</td>\n",
       "      <td>15919.000000</td>\n",
       "      <td>15919.000000</td>\n",
       "      <td>15919.000000</td>\n",
       "      <td>15919.000000</td>\n",
       "      <td>15919.000000</td>\n",
       "      <td>15919.000000</td>\n",
       "      <td>15919.000000</td>\n",
       "      <td>15919.000000</td>\n",
       "      <td>15919.000000</td>\n",
       "      <td>15919.000000</td>\n",
       "      <td>15919.000000</td>\n",
       "      <td>15919.000000</td>\n",
       "      <td>15919.000000</td>\n",
       "      <td>15919.000000</td>\n",
       "      <td>15919.000000</td>\n",
       "      <td>15919.000000</td>\n",
       "      <td>15919.000000</td>\n",
       "      <td>15919.000000</td>\n",
       "      <td>15919.000000</td>\n",
       "      <td>15919.000000</td>\n",
       "      <td>15919.000000</td>\n",
       "      <td>15919.000000</td>\n",
       "      <td>15919.000000</td>\n",
       "      <td>15919.000000</td>\n",
       "      <td>15919.000000</td>\n",
       "      <td>15919.000000</td>\n",
       "      <td>15919.000000</td>\n",
       "      <td>15919.000000</td>\n",
       "      <td>15919.000000</td>\n",
       "      <td>15919.000000</td>\n",
       "      <td>15919.000000</td>\n",
       "      <td>15919.000000</td>\n",
       "      <td>15919.000000</td>\n",
       "      <td>15919.000000</td>\n",
       "      <td>15919.000000</td>\n",
       "      <td>15919.000000</td>\n",
       "      <td>15919.000000</td>\n",
       "      <td>15919.000000</td>\n",
       "      <td>15919.000000</td>\n",
       "      <td>15919.000000</td>\n",
       "      <td>15919.000000</td>\n",
       "      <td>15919.00000</td>\n",
       "      <td>15919.000000</td>\n",
       "      <td>15919.000000</td>\n",
       "      <td>15919.000000</td>\n",
       "      <td>15919.000000</td>\n",
       "      <td>15919.000000</td>\n",
       "      <td>15919.000000</td>\n",
       "      <td>...</td>\n",
       "      <td>15919.000000</td>\n",
       "      <td>15919.000000</td>\n",
       "      <td>15919.000000</td>\n",
       "      <td>15919.000000</td>\n",
       "      <td>15919.000000</td>\n",
       "      <td>15919.000000</td>\n",
       "      <td>15919.000000</td>\n",
       "      <td>15919.000000</td>\n",
       "      <td>15919.000000</td>\n",
       "      <td>15919.000000</td>\n",
       "      <td>15919.000000</td>\n",
       "      <td>15919.000000</td>\n",
       "      <td>15919.000000</td>\n",
       "      <td>15919.000000</td>\n",
       "      <td>15919.000000</td>\n",
       "      <td>15919.000000</td>\n",
       "      <td>15919.000000</td>\n",
       "      <td>15919.000000</td>\n",
       "      <td>15919.000000</td>\n",
       "      <td>15919.000000</td>\n",
       "      <td>15919.000000</td>\n",
       "      <td>15919.000000</td>\n",
       "      <td>15919.000000</td>\n",
       "      <td>15919.000000</td>\n",
       "      <td>15919.000000</td>\n",
       "      <td>15919.000000</td>\n",
       "      <td>15919.000000</td>\n",
       "      <td>15919.000000</td>\n",
       "      <td>15919.000000</td>\n",
       "      <td>15919.000000</td>\n",
       "      <td>15919.000000</td>\n",
       "      <td>15919.000000</td>\n",
       "      <td>15919.000000</td>\n",
       "      <td>15919.000000</td>\n",
       "      <td>15919.000000</td>\n",
       "      <td>15919.000000</td>\n",
       "      <td>15919.000000</td>\n",
       "      <td>15919.000000</td>\n",
       "      <td>15919.000000</td>\n",
       "      <td>15919.000000</td>\n",
       "      <td>15919.000000</td>\n",
       "      <td>15919.000000</td>\n",
       "      <td>15919.000000</td>\n",
       "      <td>15919.000000</td>\n",
       "      <td>15919.000000</td>\n",
       "      <td>15919.000000</td>\n",
       "      <td>15919.000000</td>\n",
       "      <td>15919.000000</td>\n",
       "      <td>15919.000000</td>\n",
       "      <td>15919.000000</td>\n",
       "    </tr>\n",
       "    <tr>\n",
       "      <th>mean</th>\n",
       "      <td>17915.871474</td>\n",
       "      <td>31442.665494</td>\n",
       "      <td>87.840756</td>\n",
       "      <td>0.950751</td>\n",
       "      <td>15.026384</td>\n",
       "      <td>4.660594</td>\n",
       "      <td>4.967586</td>\n",
       "      <td>1426.501539</td>\n",
       "      <td>3.813619</td>\n",
       "      <td>4.822709</td>\n",
       "      <td>116.320309</td>\n",
       "      <td>5.810666</td>\n",
       "      <td>0.949180</td>\n",
       "      <td>0.003895</td>\n",
       "      <td>0.476035</td>\n",
       "      <td>0.577989</td>\n",
       "      <td>0.016710</td>\n",
       "      <td>0.730448</td>\n",
       "      <td>0.000063</td>\n",
       "      <td>0.075633</td>\n",
       "      <td>0.797789</td>\n",
       "      <td>0.129845</td>\n",
       "      <td>0.058860</td>\n",
       "      <td>0.038068</td>\n",
       "      <td>0.202148</td>\n",
       "      <td>0.462152</td>\n",
       "      <td>0.181167</td>\n",
       "      <td>0.003015</td>\n",
       "      <td>0.611785</td>\n",
       "      <td>0.514668</td>\n",
       "      <td>0.224826</td>\n",
       "      <td>0.022614</td>\n",
       "      <td>0.735285</td>\n",
       "      <td>0.535147</td>\n",
       "      <td>0.039010</td>\n",
       "      <td>0.679188</td>\n",
       "      <td>0.231924</td>\n",
       "      <td>0.048244</td>\n",
       "      <td>0.388906</td>\n",
       "      <td>0.641686</td>\n",
       "      <td>0.931842</td>\n",
       "      <td>0.563352</td>\n",
       "      <td>0.466801</td>\n",
       "      <td>0.05239</td>\n",
       "      <td>0.149947</td>\n",
       "      <td>0.590615</td>\n",
       "      <td>0.023368</td>\n",
       "      <td>0.090709</td>\n",
       "      <td>0.002576</td>\n",
       "      <td>0.000754</td>\n",
       "      <td>...</td>\n",
       "      <td>0.986997</td>\n",
       "      <td>0.000251</td>\n",
       "      <td>0.332496</td>\n",
       "      <td>0.458886</td>\n",
       "      <td>0.000314</td>\n",
       "      <td>0.208305</td>\n",
       "      <td>0.002513</td>\n",
       "      <td>0.004900</td>\n",
       "      <td>0.858722</td>\n",
       "      <td>0.007978</td>\n",
       "      <td>0.125887</td>\n",
       "      <td>0.013066</td>\n",
       "      <td>0.019725</td>\n",
       "      <td>0.000126</td>\n",
       "      <td>0.000251</td>\n",
       "      <td>0.003267</td>\n",
       "      <td>0.002073</td>\n",
       "      <td>0.000063</td>\n",
       "      <td>0.031849</td>\n",
       "      <td>0.002387</td>\n",
       "      <td>0.804699</td>\n",
       "      <td>0.001759</td>\n",
       "      <td>0.065205</td>\n",
       "      <td>0.002073</td>\n",
       "      <td>0.000063</td>\n",
       "      <td>0.029148</td>\n",
       "      <td>0.003078</td>\n",
       "      <td>0.000126</td>\n",
       "      <td>0.000063</td>\n",
       "      <td>0.000251</td>\n",
       "      <td>0.000063</td>\n",
       "      <td>0.020416</td>\n",
       "      <td>0.000188</td>\n",
       "      <td>0.000063</td>\n",
       "      <td>0.810101</td>\n",
       "      <td>0.088385</td>\n",
       "      <td>0.094164</td>\n",
       "      <td>0.003769</td>\n",
       "      <td>0.003581</td>\n",
       "      <td>0.003204</td>\n",
       "      <td>0.873170</td>\n",
       "      <td>0.001005</td>\n",
       "      <td>0.033482</td>\n",
       "      <td>0.087443</td>\n",
       "      <td>0.000063</td>\n",
       "      <td>0.000565</td>\n",
       "      <td>0.000817</td>\n",
       "      <td>0.000251</td>\n",
       "      <td>1.388278</td>\n",
       "      <td>1.874867</td>\n",
       "    </tr>\n",
       "    <tr>\n",
       "      <th>std</th>\n",
       "      <td>6961.480413</td>\n",
       "      <td>35321.259895</td>\n",
       "      <td>24.611395</td>\n",
       "      <td>0.390504</td>\n",
       "      <td>9.833687</td>\n",
       "      <td>0.641626</td>\n",
       "      <td>0.409959</td>\n",
       "      <td>275.310364</td>\n",
       "      <td>0.389426</td>\n",
       "      <td>0.849664</td>\n",
       "      <td>16.711693</td>\n",
       "      <td>0.691128</td>\n",
       "      <td>0.219636</td>\n",
       "      <td>0.062288</td>\n",
       "      <td>0.499441</td>\n",
       "      <td>0.493896</td>\n",
       "      <td>0.128185</td>\n",
       "      <td>0.443741</td>\n",
       "      <td>0.007926</td>\n",
       "      <td>0.264418</td>\n",
       "      <td>0.401662</td>\n",
       "      <td>0.336143</td>\n",
       "      <td>0.235371</td>\n",
       "      <td>0.191366</td>\n",
       "      <td>0.401615</td>\n",
       "      <td>0.498581</td>\n",
       "      <td>0.385169</td>\n",
       "      <td>0.054830</td>\n",
       "      <td>0.487359</td>\n",
       "      <td>0.499801</td>\n",
       "      <td>0.417481</td>\n",
       "      <td>0.148676</td>\n",
       "      <td>0.441195</td>\n",
       "      <td>0.498779</td>\n",
       "      <td>0.193625</td>\n",
       "      <td>0.466803</td>\n",
       "      <td>0.422074</td>\n",
       "      <td>0.214289</td>\n",
       "      <td>0.487517</td>\n",
       "      <td>0.479520</td>\n",
       "      <td>0.252024</td>\n",
       "      <td>0.495986</td>\n",
       "      <td>0.498912</td>\n",
       "      <td>0.22282</td>\n",
       "      <td>0.357030</td>\n",
       "      <td>0.491736</td>\n",
       "      <td>0.151075</td>\n",
       "      <td>0.287204</td>\n",
       "      <td>0.050686</td>\n",
       "      <td>0.027446</td>\n",
       "      <td>...</td>\n",
       "      <td>0.113292</td>\n",
       "      <td>0.015850</td>\n",
       "      <td>0.471122</td>\n",
       "      <td>0.498322</td>\n",
       "      <td>0.017720</td>\n",
       "      <td>0.406109</td>\n",
       "      <td>0.050066</td>\n",
       "      <td>0.069829</td>\n",
       "      <td>0.348319</td>\n",
       "      <td>0.088965</td>\n",
       "      <td>0.331733</td>\n",
       "      <td>0.113562</td>\n",
       "      <td>0.139058</td>\n",
       "      <td>0.011208</td>\n",
       "      <td>0.015850</td>\n",
       "      <td>0.057062</td>\n",
       "      <td>0.045484</td>\n",
       "      <td>0.007926</td>\n",
       "      <td>0.175603</td>\n",
       "      <td>0.048801</td>\n",
       "      <td>0.396445</td>\n",
       "      <td>0.041904</td>\n",
       "      <td>0.246895</td>\n",
       "      <td>0.045484</td>\n",
       "      <td>0.007926</td>\n",
       "      <td>0.168225</td>\n",
       "      <td>0.055397</td>\n",
       "      <td>0.011208</td>\n",
       "      <td>0.007926</td>\n",
       "      <td>0.015850</td>\n",
       "      <td>0.007926</td>\n",
       "      <td>0.141422</td>\n",
       "      <td>0.013727</td>\n",
       "      <td>0.007926</td>\n",
       "      <td>0.392233</td>\n",
       "      <td>0.283863</td>\n",
       "      <td>0.292066</td>\n",
       "      <td>0.061279</td>\n",
       "      <td>0.059733</td>\n",
       "      <td>0.056512</td>\n",
       "      <td>0.332792</td>\n",
       "      <td>0.031688</td>\n",
       "      <td>0.179897</td>\n",
       "      <td>0.282492</td>\n",
       "      <td>0.007926</td>\n",
       "      <td>0.023771</td>\n",
       "      <td>0.028566</td>\n",
       "      <td>0.015850</td>\n",
       "      <td>1.121444</td>\n",
       "      <td>0.926862</td>\n",
       "    </tr>\n",
       "    <tr>\n",
       "      <th>min</th>\n",
       "      <td>7180.000000</td>\n",
       "      <td>1.000000</td>\n",
       "      <td>51.000000</td>\n",
       "      <td>0.000000</td>\n",
       "      <td>1.000000</td>\n",
       "      <td>2.000000</td>\n",
       "      <td>4.000000</td>\n",
       "      <td>898.000000</td>\n",
       "      <td>3.000000</td>\n",
       "      <td>3.300000</td>\n",
       "      <td>85.000000</td>\n",
       "      <td>5.000000</td>\n",
       "      <td>0.000000</td>\n",
       "      <td>0.000000</td>\n",
       "      <td>0.000000</td>\n",
       "      <td>0.000000</td>\n",
       "      <td>0.000000</td>\n",
       "      <td>0.000000</td>\n",
       "      <td>0.000000</td>\n",
       "      <td>0.000000</td>\n",
       "      <td>0.000000</td>\n",
       "      <td>0.000000</td>\n",
       "      <td>0.000000</td>\n",
       "      <td>0.000000</td>\n",
       "      <td>0.000000</td>\n",
       "      <td>0.000000</td>\n",
       "      <td>0.000000</td>\n",
       "      <td>0.000000</td>\n",
       "      <td>0.000000</td>\n",
       "      <td>0.000000</td>\n",
       "      <td>0.000000</td>\n",
       "      <td>0.000000</td>\n",
       "      <td>0.000000</td>\n",
       "      <td>0.000000</td>\n",
       "      <td>0.000000</td>\n",
       "      <td>0.000000</td>\n",
       "      <td>0.000000</td>\n",
       "      <td>0.000000</td>\n",
       "      <td>0.000000</td>\n",
       "      <td>0.000000</td>\n",
       "      <td>0.000000</td>\n",
       "      <td>0.000000</td>\n",
       "      <td>0.000000</td>\n",
       "      <td>0.00000</td>\n",
       "      <td>0.000000</td>\n",
       "      <td>0.000000</td>\n",
       "      <td>0.000000</td>\n",
       "      <td>0.000000</td>\n",
       "      <td>0.000000</td>\n",
       "      <td>0.000000</td>\n",
       "      <td>...</td>\n",
       "      <td>0.000000</td>\n",
       "      <td>0.000000</td>\n",
       "      <td>0.000000</td>\n",
       "      <td>0.000000</td>\n",
       "      <td>0.000000</td>\n",
       "      <td>0.000000</td>\n",
       "      <td>0.000000</td>\n",
       "      <td>0.000000</td>\n",
       "      <td>0.000000</td>\n",
       "      <td>0.000000</td>\n",
       "      <td>0.000000</td>\n",
       "      <td>0.000000</td>\n",
       "      <td>0.000000</td>\n",
       "      <td>0.000000</td>\n",
       "      <td>0.000000</td>\n",
       "      <td>0.000000</td>\n",
       "      <td>0.000000</td>\n",
       "      <td>0.000000</td>\n",
       "      <td>0.000000</td>\n",
       "      <td>0.000000</td>\n",
       "      <td>0.000000</td>\n",
       "      <td>0.000000</td>\n",
       "      <td>0.000000</td>\n",
       "      <td>0.000000</td>\n",
       "      <td>0.000000</td>\n",
       "      <td>0.000000</td>\n",
       "      <td>0.000000</td>\n",
       "      <td>0.000000</td>\n",
       "      <td>0.000000</td>\n",
       "      <td>0.000000</td>\n",
       "      <td>0.000000</td>\n",
       "      <td>0.000000</td>\n",
       "      <td>0.000000</td>\n",
       "      <td>0.000000</td>\n",
       "      <td>0.000000</td>\n",
       "      <td>0.000000</td>\n",
       "      <td>0.000000</td>\n",
       "      <td>0.000000</td>\n",
       "      <td>0.000000</td>\n",
       "      <td>0.000000</td>\n",
       "      <td>0.000000</td>\n",
       "      <td>0.000000</td>\n",
       "      <td>0.000000</td>\n",
       "      <td>0.000000</td>\n",
       "      <td>0.000000</td>\n",
       "      <td>0.000000</td>\n",
       "      <td>0.000000</td>\n",
       "      <td>0.000000</td>\n",
       "      <td>0.000000</td>\n",
       "      <td>0.000000</td>\n",
       "    </tr>\n",
       "    <tr>\n",
       "      <th>25%</th>\n",
       "      <td>12850.000000</td>\n",
       "      <td>1557.500000</td>\n",
       "      <td>66.000000</td>\n",
       "      <td>1.000000</td>\n",
       "      <td>12.000000</td>\n",
       "      <td>4.000000</td>\n",
       "      <td>5.000000</td>\n",
       "      <td>1229.000000</td>\n",
       "      <td>4.000000</td>\n",
       "      <td>4.000000</td>\n",
       "      <td>102.000000</td>\n",
       "      <td>5.000000</td>\n",
       "      <td>1.000000</td>\n",
       "      <td>0.000000</td>\n",
       "      <td>0.000000</td>\n",
       "      <td>0.000000</td>\n",
       "      <td>0.000000</td>\n",
       "      <td>0.000000</td>\n",
       "      <td>0.000000</td>\n",
       "      <td>0.000000</td>\n",
       "      <td>1.000000</td>\n",
       "      <td>0.000000</td>\n",
       "      <td>0.000000</td>\n",
       "      <td>0.000000</td>\n",
       "      <td>0.000000</td>\n",
       "      <td>0.000000</td>\n",
       "      <td>0.000000</td>\n",
       "      <td>0.000000</td>\n",
       "      <td>0.000000</td>\n",
       "      <td>0.000000</td>\n",
       "      <td>0.000000</td>\n",
       "      <td>0.000000</td>\n",
       "      <td>0.000000</td>\n",
       "      <td>0.000000</td>\n",
       "      <td>0.000000</td>\n",
       "      <td>0.000000</td>\n",
       "      <td>0.000000</td>\n",
       "      <td>0.000000</td>\n",
       "      <td>0.000000</td>\n",
       "      <td>0.000000</td>\n",
       "      <td>1.000000</td>\n",
       "      <td>0.000000</td>\n",
       "      <td>0.000000</td>\n",
       "      <td>0.00000</td>\n",
       "      <td>0.000000</td>\n",
       "      <td>0.000000</td>\n",
       "      <td>0.000000</td>\n",
       "      <td>0.000000</td>\n",
       "      <td>0.000000</td>\n",
       "      <td>0.000000</td>\n",
       "      <td>...</td>\n",
       "      <td>1.000000</td>\n",
       "      <td>0.000000</td>\n",
       "      <td>0.000000</td>\n",
       "      <td>0.000000</td>\n",
       "      <td>0.000000</td>\n",
       "      <td>0.000000</td>\n",
       "      <td>0.000000</td>\n",
       "      <td>0.000000</td>\n",
       "      <td>1.000000</td>\n",
       "      <td>0.000000</td>\n",
       "      <td>0.000000</td>\n",
       "      <td>0.000000</td>\n",
       "      <td>0.000000</td>\n",
       "      <td>0.000000</td>\n",
       "      <td>0.000000</td>\n",
       "      <td>0.000000</td>\n",
       "      <td>0.000000</td>\n",
       "      <td>0.000000</td>\n",
       "      <td>0.000000</td>\n",
       "      <td>0.000000</td>\n",
       "      <td>1.000000</td>\n",
       "      <td>0.000000</td>\n",
       "      <td>0.000000</td>\n",
       "      <td>0.000000</td>\n",
       "      <td>0.000000</td>\n",
       "      <td>0.000000</td>\n",
       "      <td>0.000000</td>\n",
       "      <td>0.000000</td>\n",
       "      <td>0.000000</td>\n",
       "      <td>0.000000</td>\n",
       "      <td>0.000000</td>\n",
       "      <td>0.000000</td>\n",
       "      <td>0.000000</td>\n",
       "      <td>0.000000</td>\n",
       "      <td>1.000000</td>\n",
       "      <td>0.000000</td>\n",
       "      <td>0.000000</td>\n",
       "      <td>0.000000</td>\n",
       "      <td>0.000000</td>\n",
       "      <td>0.000000</td>\n",
       "      <td>1.000000</td>\n",
       "      <td>0.000000</td>\n",
       "      <td>0.000000</td>\n",
       "      <td>0.000000</td>\n",
       "      <td>0.000000</td>\n",
       "      <td>0.000000</td>\n",
       "      <td>0.000000</td>\n",
       "      <td>0.000000</td>\n",
       "      <td>0.000000</td>\n",
       "      <td>1.000000</td>\n",
       "    </tr>\n",
       "    <tr>\n",
       "      <th>50%</th>\n",
       "      <td>16900.000000</td>\n",
       "      <td>20400.000000</td>\n",
       "      <td>85.000000</td>\n",
       "      <td>1.000000</td>\n",
       "      <td>12.000000</td>\n",
       "      <td>5.000000</td>\n",
       "      <td>5.000000</td>\n",
       "      <td>1461.000000</td>\n",
       "      <td>4.000000</td>\n",
       "      <td>4.800000</td>\n",
       "      <td>116.000000</td>\n",
       "      <td>6.000000</td>\n",
       "      <td>1.000000</td>\n",
       "      <td>0.000000</td>\n",
       "      <td>0.000000</td>\n",
       "      <td>1.000000</td>\n",
       "      <td>0.000000</td>\n",
       "      <td>1.000000</td>\n",
       "      <td>0.000000</td>\n",
       "      <td>0.000000</td>\n",
       "      <td>1.000000</td>\n",
       "      <td>0.000000</td>\n",
       "      <td>0.000000</td>\n",
       "      <td>0.000000</td>\n",
       "      <td>0.000000</td>\n",
       "      <td>0.000000</td>\n",
       "      <td>0.000000</td>\n",
       "      <td>0.000000</td>\n",
       "      <td>1.000000</td>\n",
       "      <td>1.000000</td>\n",
       "      <td>0.000000</td>\n",
       "      <td>0.000000</td>\n",
       "      <td>1.000000</td>\n",
       "      <td>1.000000</td>\n",
       "      <td>0.000000</td>\n",
       "      <td>1.000000</td>\n",
       "      <td>0.000000</td>\n",
       "      <td>0.000000</td>\n",
       "      <td>0.000000</td>\n",
       "      <td>1.000000</td>\n",
       "      <td>1.000000</td>\n",
       "      <td>1.000000</td>\n",
       "      <td>0.000000</td>\n",
       "      <td>0.00000</td>\n",
       "      <td>0.000000</td>\n",
       "      <td>1.000000</td>\n",
       "      <td>0.000000</td>\n",
       "      <td>0.000000</td>\n",
       "      <td>0.000000</td>\n",
       "      <td>0.000000</td>\n",
       "      <td>...</td>\n",
       "      <td>1.000000</td>\n",
       "      <td>0.000000</td>\n",
       "      <td>0.000000</td>\n",
       "      <td>0.000000</td>\n",
       "      <td>0.000000</td>\n",
       "      <td>0.000000</td>\n",
       "      <td>0.000000</td>\n",
       "      <td>0.000000</td>\n",
       "      <td>1.000000</td>\n",
       "      <td>0.000000</td>\n",
       "      <td>0.000000</td>\n",
       "      <td>0.000000</td>\n",
       "      <td>0.000000</td>\n",
       "      <td>0.000000</td>\n",
       "      <td>0.000000</td>\n",
       "      <td>0.000000</td>\n",
       "      <td>0.000000</td>\n",
       "      <td>0.000000</td>\n",
       "      <td>0.000000</td>\n",
       "      <td>0.000000</td>\n",
       "      <td>1.000000</td>\n",
       "      <td>0.000000</td>\n",
       "      <td>0.000000</td>\n",
       "      <td>0.000000</td>\n",
       "      <td>0.000000</td>\n",
       "      <td>0.000000</td>\n",
       "      <td>0.000000</td>\n",
       "      <td>0.000000</td>\n",
       "      <td>0.000000</td>\n",
       "      <td>0.000000</td>\n",
       "      <td>0.000000</td>\n",
       "      <td>0.000000</td>\n",
       "      <td>0.000000</td>\n",
       "      <td>0.000000</td>\n",
       "      <td>1.000000</td>\n",
       "      <td>0.000000</td>\n",
       "      <td>0.000000</td>\n",
       "      <td>0.000000</td>\n",
       "      <td>0.000000</td>\n",
       "      <td>0.000000</td>\n",
       "      <td>1.000000</td>\n",
       "      <td>0.000000</td>\n",
       "      <td>0.000000</td>\n",
       "      <td>0.000000</td>\n",
       "      <td>0.000000</td>\n",
       "      <td>0.000000</td>\n",
       "      <td>0.000000</td>\n",
       "      <td>0.000000</td>\n",
       "      <td>1.000000</td>\n",
       "      <td>2.000000</td>\n",
       "    </tr>\n",
       "    <tr>\n",
       "      <th>75%</th>\n",
       "      <td>21900.000000</td>\n",
       "      <td>46898.500000</td>\n",
       "      <td>101.000000</td>\n",
       "      <td>1.000000</td>\n",
       "      <td>12.000000</td>\n",
       "      <td>5.000000</td>\n",
       "      <td>5.000000</td>\n",
       "      <td>1598.000000</td>\n",
       "      <td>4.000000</td>\n",
       "      <td>5.400000</td>\n",
       "      <td>127.000000</td>\n",
       "      <td>6.000000</td>\n",
       "      <td>1.000000</td>\n",
       "      <td>0.000000</td>\n",
       "      <td>1.000000</td>\n",
       "      <td>1.000000</td>\n",
       "      <td>0.000000</td>\n",
       "      <td>1.000000</td>\n",
       "      <td>0.000000</td>\n",
       "      <td>0.000000</td>\n",
       "      <td>1.000000</td>\n",
       "      <td>0.000000</td>\n",
       "      <td>0.000000</td>\n",
       "      <td>0.000000</td>\n",
       "      <td>0.000000</td>\n",
       "      <td>1.000000</td>\n",
       "      <td>0.000000</td>\n",
       "      <td>0.000000</td>\n",
       "      <td>1.000000</td>\n",
       "      <td>1.000000</td>\n",
       "      <td>0.000000</td>\n",
       "      <td>0.000000</td>\n",
       "      <td>1.000000</td>\n",
       "      <td>1.000000</td>\n",
       "      <td>0.000000</td>\n",
       "      <td>1.000000</td>\n",
       "      <td>0.000000</td>\n",
       "      <td>0.000000</td>\n",
       "      <td>1.000000</td>\n",
       "      <td>1.000000</td>\n",
       "      <td>1.000000</td>\n",
       "      <td>1.000000</td>\n",
       "      <td>1.000000</td>\n",
       "      <td>0.00000</td>\n",
       "      <td>0.000000</td>\n",
       "      <td>1.000000</td>\n",
       "      <td>0.000000</td>\n",
       "      <td>0.000000</td>\n",
       "      <td>0.000000</td>\n",
       "      <td>0.000000</td>\n",
       "      <td>...</td>\n",
       "      <td>1.000000</td>\n",
       "      <td>0.000000</td>\n",
       "      <td>1.000000</td>\n",
       "      <td>1.000000</td>\n",
       "      <td>0.000000</td>\n",
       "      <td>0.000000</td>\n",
       "      <td>0.000000</td>\n",
       "      <td>0.000000</td>\n",
       "      <td>1.000000</td>\n",
       "      <td>0.000000</td>\n",
       "      <td>0.000000</td>\n",
       "      <td>0.000000</td>\n",
       "      <td>0.000000</td>\n",
       "      <td>0.000000</td>\n",
       "      <td>0.000000</td>\n",
       "      <td>0.000000</td>\n",
       "      <td>0.000000</td>\n",
       "      <td>0.000000</td>\n",
       "      <td>0.000000</td>\n",
       "      <td>0.000000</td>\n",
       "      <td>1.000000</td>\n",
       "      <td>0.000000</td>\n",
       "      <td>0.000000</td>\n",
       "      <td>0.000000</td>\n",
       "      <td>0.000000</td>\n",
       "      <td>0.000000</td>\n",
       "      <td>0.000000</td>\n",
       "      <td>0.000000</td>\n",
       "      <td>0.000000</td>\n",
       "      <td>0.000000</td>\n",
       "      <td>0.000000</td>\n",
       "      <td>0.000000</td>\n",
       "      <td>0.000000</td>\n",
       "      <td>0.000000</td>\n",
       "      <td>1.000000</td>\n",
       "      <td>0.000000</td>\n",
       "      <td>0.000000</td>\n",
       "      <td>0.000000</td>\n",
       "      <td>0.000000</td>\n",
       "      <td>0.000000</td>\n",
       "      <td>1.000000</td>\n",
       "      <td>0.000000</td>\n",
       "      <td>0.000000</td>\n",
       "      <td>0.000000</td>\n",
       "      <td>0.000000</td>\n",
       "      <td>0.000000</td>\n",
       "      <td>0.000000</td>\n",
       "      <td>0.000000</td>\n",
       "      <td>2.000000</td>\n",
       "      <td>3.000000</td>\n",
       "    </tr>\n",
       "    <tr>\n",
       "      <th>max</th>\n",
       "      <td>37870.000000</td>\n",
       "      <td>137066.000000</td>\n",
       "      <td>147.000000</td>\n",
       "      <td>4.000000</td>\n",
       "      <td>72.000000</td>\n",
       "      <td>5.000000</td>\n",
       "      <td>7.000000</td>\n",
       "      <td>1997.000000</td>\n",
       "      <td>4.000000</td>\n",
       "      <td>7.100000</td>\n",
       "      <td>156.000000</td>\n",
       "      <td>8.000000</td>\n",
       "      <td>1.000000</td>\n",
       "      <td>1.000000</td>\n",
       "      <td>1.000000</td>\n",
       "      <td>1.000000</td>\n",
       "      <td>1.000000</td>\n",
       "      <td>1.000000</td>\n",
       "      <td>1.000000</td>\n",
       "      <td>1.000000</td>\n",
       "      <td>1.000000</td>\n",
       "      <td>1.000000</td>\n",
       "      <td>1.000000</td>\n",
       "      <td>1.000000</td>\n",
       "      <td>1.000000</td>\n",
       "      <td>1.000000</td>\n",
       "      <td>1.000000</td>\n",
       "      <td>1.000000</td>\n",
       "      <td>1.000000</td>\n",
       "      <td>1.000000</td>\n",
       "      <td>1.000000</td>\n",
       "      <td>1.000000</td>\n",
       "      <td>1.000000</td>\n",
       "      <td>1.000000</td>\n",
       "      <td>1.000000</td>\n",
       "      <td>1.000000</td>\n",
       "      <td>1.000000</td>\n",
       "      <td>1.000000</td>\n",
       "      <td>1.000000</td>\n",
       "      <td>1.000000</td>\n",
       "      <td>1.000000</td>\n",
       "      <td>1.000000</td>\n",
       "      <td>1.000000</td>\n",
       "      <td>1.00000</td>\n",
       "      <td>1.000000</td>\n",
       "      <td>1.000000</td>\n",
       "      <td>1.000000</td>\n",
       "      <td>1.000000</td>\n",
       "      <td>1.000000</td>\n",
       "      <td>1.000000</td>\n",
       "      <td>...</td>\n",
       "      <td>1.000000</td>\n",
       "      <td>1.000000</td>\n",
       "      <td>1.000000</td>\n",
       "      <td>1.000000</td>\n",
       "      <td>1.000000</td>\n",
       "      <td>1.000000</td>\n",
       "      <td>1.000000</td>\n",
       "      <td>1.000000</td>\n",
       "      <td>1.000000</td>\n",
       "      <td>1.000000</td>\n",
       "      <td>1.000000</td>\n",
       "      <td>1.000000</td>\n",
       "      <td>1.000000</td>\n",
       "      <td>1.000000</td>\n",
       "      <td>1.000000</td>\n",
       "      <td>1.000000</td>\n",
       "      <td>1.000000</td>\n",
       "      <td>1.000000</td>\n",
       "      <td>1.000000</td>\n",
       "      <td>1.000000</td>\n",
       "      <td>1.000000</td>\n",
       "      <td>1.000000</td>\n",
       "      <td>1.000000</td>\n",
       "      <td>1.000000</td>\n",
       "      <td>1.000000</td>\n",
       "      <td>1.000000</td>\n",
       "      <td>1.000000</td>\n",
       "      <td>1.000000</td>\n",
       "      <td>1.000000</td>\n",
       "      <td>1.000000</td>\n",
       "      <td>1.000000</td>\n",
       "      <td>1.000000</td>\n",
       "      <td>1.000000</td>\n",
       "      <td>1.000000</td>\n",
       "      <td>1.000000</td>\n",
       "      <td>1.000000</td>\n",
       "      <td>1.000000</td>\n",
       "      <td>1.000000</td>\n",
       "      <td>1.000000</td>\n",
       "      <td>1.000000</td>\n",
       "      <td>1.000000</td>\n",
       "      <td>1.000000</td>\n",
       "      <td>1.000000</td>\n",
       "      <td>1.000000</td>\n",
       "      <td>1.000000</td>\n",
       "      <td>1.000000</td>\n",
       "      <td>1.000000</td>\n",
       "      <td>1.000000</td>\n",
       "      <td>3.000000</td>\n",
       "      <td>5.000000</td>\n",
       "    </tr>\n",
       "  </tbody>\n",
       "</table>\n",
       "<p>8 rows × 214 columns</p>\n",
       "</div>"
      ],
      "text/plain": [
       "              price             km            hp  Previous Owners      Warranty  Nr. of Doors  Nr. of Seats  Displacement     Cylinders   Consumption  CO2 Emission         Gears  cc_Air conditioning  cc_Air suspension    cc_Armrest  cc_Automatic climate control  cc_Auxiliary heating  cc_Cruise control  cc_Electric Starter  cc_Electric tailgate  cc_Electrical side mirrors  cc_Electrically adjustable seats  cc_Electrically heated windshield  cc_Heads-up display  cc_Heated steering wheel  cc_Hill Holder  cc_Keyless central door lock  cc_Leather seats  cc_Leather steering wheel  cc_Light sensor  cc_Lumbar support  cc_Massage seats  cc_Multi-function steering wheel  cc_Navigation system  cc_Panorama roof  cc_Park Distance Control  cc_Parking assist system camera  cc_Parking assist system self-steering  cc_Parking assist system sensors front  cc_Parking assist system sensors rear  cc_Power windows  cc_Rain sensor  cc_Seat heating  cc_Seat ventilation  cc_Split rear seats  cc_Start-stop system    cc_Sunroof  cc_Tinted windows  cc_Wind deflector  cc_Windshield  ...      dc_front       dc_rear    fl_Benzine     fl_Diesel   fl_Electric   fl_Gasoline     ec_Euro 4     ec_Euro 5     ec_Euro 6    ec_Euro 6c  ec_Euro 6d-TEMP    cv_Austria    cv_Belgium   cv_Bulgaria    cv_Croatia  cv_Czech Republic    cv_Denmark      cv_Egypt  cv_European Union     cv_France    cv_Germany    cv_Hungary      cv_Italy      cv_Japan  cv_Luxembourg  cv_Netherlands     cv_Poland    cv_Romania     cv_Serbia   cv_Slovakia   cv_Slovenia      cv_Spain     cv_Sweden  cv_Switzerland  Upsurf_Cloth  Upsurf_Full leather  Upsurf_Part leather  Upsurf_Velour  Upsurf_alcantara  Upcolor_Beige  Upcolor_Black  Upcolor_Blue  Upcolor_Brown  Upcolor_Grey  Upcolor_Orange   Upcolor_Red  Upcolor_White  Upcolor_Yellow      age_year  yeartoinspection\n",
       "count  15919.000000   15919.000000  15919.000000     15919.000000  15919.000000  15919.000000  15919.000000  15919.000000  15919.000000  15919.000000  15919.000000  15919.000000         15919.000000       15919.000000  15919.000000                  15919.000000          15919.000000       15919.000000         15919.000000          15919.000000                15919.000000                      15919.000000                       15919.000000         15919.000000              15919.000000    15919.000000                  15919.000000      15919.000000               15919.000000     15919.000000       15919.000000      15919.000000                      15919.000000          15919.000000      15919.000000              15919.000000                     15919.000000                            15919.000000                            15919.000000                           15919.000000      15919.000000    15919.000000     15919.000000          15919.00000         15919.000000          15919.000000  15919.000000       15919.000000       15919.000000   15919.000000  ...  15919.000000  15919.000000  15919.000000  15919.000000  15919.000000  15919.000000  15919.000000  15919.000000  15919.000000  15919.000000     15919.000000  15919.000000  15919.000000  15919.000000  15919.000000       15919.000000  15919.000000  15919.000000       15919.000000  15919.000000  15919.000000  15919.000000  15919.000000  15919.000000   15919.000000    15919.000000  15919.000000  15919.000000  15919.000000  15919.000000  15919.000000  15919.000000  15919.000000    15919.000000  15919.000000         15919.000000         15919.000000   15919.000000      15919.000000   15919.000000   15919.000000  15919.000000   15919.000000  15919.000000    15919.000000  15919.000000   15919.000000    15919.000000  15919.000000      15919.000000\n",
       "mean   17915.871474   31442.665494     87.840756         0.950751     15.026384      4.660594      4.967586   1426.501539      3.813619      4.822709    116.320309      5.810666             0.949180           0.003895      0.476035                      0.577989              0.016710           0.730448             0.000063              0.075633                    0.797789                          0.129845                           0.058860             0.038068                  0.202148        0.462152                      0.181167          0.003015                   0.611785         0.514668           0.224826          0.022614                          0.735285              0.535147          0.039010                  0.679188                         0.231924                                0.048244                                0.388906                               0.641686          0.931842        0.563352         0.466801              0.05239             0.149947              0.590615      0.023368           0.090709           0.002576       0.000754  ...      0.986997      0.000251      0.332496      0.458886      0.000314      0.208305      0.002513      0.004900      0.858722      0.007978         0.125887      0.013066      0.019725      0.000126      0.000251           0.003267      0.002073      0.000063           0.031849      0.002387      0.804699      0.001759      0.065205      0.002073       0.000063        0.029148      0.003078      0.000126      0.000063      0.000251      0.000063      0.020416      0.000188        0.000063      0.810101             0.088385             0.094164       0.003769          0.003581       0.003204       0.873170      0.001005       0.033482      0.087443        0.000063      0.000565       0.000817        0.000251      1.388278          1.874867\n",
       "std     6961.480413   35321.259895     24.611395         0.390504      9.833687      0.641626      0.409959    275.310364      0.389426      0.849664     16.711693      0.691128             0.219636           0.062288      0.499441                      0.493896              0.128185           0.443741             0.007926              0.264418                    0.401662                          0.336143                           0.235371             0.191366                  0.401615        0.498581                      0.385169          0.054830                   0.487359         0.499801           0.417481          0.148676                          0.441195              0.498779          0.193625                  0.466803                         0.422074                                0.214289                                0.487517                               0.479520          0.252024        0.495986         0.498912              0.22282             0.357030              0.491736      0.151075           0.287204           0.050686       0.027446  ...      0.113292      0.015850      0.471122      0.498322      0.017720      0.406109      0.050066      0.069829      0.348319      0.088965         0.331733      0.113562      0.139058      0.011208      0.015850           0.057062      0.045484      0.007926           0.175603      0.048801      0.396445      0.041904      0.246895      0.045484       0.007926        0.168225      0.055397      0.011208      0.007926      0.015850      0.007926      0.141422      0.013727        0.007926      0.392233             0.283863             0.292066       0.061279          0.059733       0.056512       0.332792      0.031688       0.179897      0.282492        0.007926      0.023771       0.028566        0.015850      1.121444          0.926862\n",
       "min     7180.000000       1.000000     51.000000         0.000000      1.000000      2.000000      4.000000    898.000000      3.000000      3.300000     85.000000      5.000000             0.000000           0.000000      0.000000                      0.000000              0.000000           0.000000             0.000000              0.000000                    0.000000                          0.000000                           0.000000             0.000000                  0.000000        0.000000                      0.000000          0.000000                   0.000000         0.000000           0.000000          0.000000                          0.000000              0.000000          0.000000                  0.000000                         0.000000                                0.000000                                0.000000                               0.000000          0.000000        0.000000         0.000000              0.00000             0.000000              0.000000      0.000000           0.000000           0.000000       0.000000  ...      0.000000      0.000000      0.000000      0.000000      0.000000      0.000000      0.000000      0.000000      0.000000      0.000000         0.000000      0.000000      0.000000      0.000000      0.000000           0.000000      0.000000      0.000000           0.000000      0.000000      0.000000      0.000000      0.000000      0.000000       0.000000        0.000000      0.000000      0.000000      0.000000      0.000000      0.000000      0.000000      0.000000        0.000000      0.000000             0.000000             0.000000       0.000000          0.000000       0.000000       0.000000      0.000000       0.000000      0.000000        0.000000      0.000000       0.000000        0.000000      0.000000          0.000000\n",
       "25%    12850.000000    1557.500000     66.000000         1.000000     12.000000      4.000000      5.000000   1229.000000      4.000000      4.000000    102.000000      5.000000             1.000000           0.000000      0.000000                      0.000000              0.000000           0.000000             0.000000              0.000000                    1.000000                          0.000000                           0.000000             0.000000                  0.000000        0.000000                      0.000000          0.000000                   0.000000         0.000000           0.000000          0.000000                          0.000000              0.000000          0.000000                  0.000000                         0.000000                                0.000000                                0.000000                               0.000000          1.000000        0.000000         0.000000              0.00000             0.000000              0.000000      0.000000           0.000000           0.000000       0.000000  ...      1.000000      0.000000      0.000000      0.000000      0.000000      0.000000      0.000000      0.000000      1.000000      0.000000         0.000000      0.000000      0.000000      0.000000      0.000000           0.000000      0.000000      0.000000           0.000000      0.000000      1.000000      0.000000      0.000000      0.000000       0.000000        0.000000      0.000000      0.000000      0.000000      0.000000      0.000000      0.000000      0.000000        0.000000      1.000000             0.000000             0.000000       0.000000          0.000000       0.000000       1.000000      0.000000       0.000000      0.000000        0.000000      0.000000       0.000000        0.000000      0.000000          1.000000\n",
       "50%    16900.000000   20400.000000     85.000000         1.000000     12.000000      5.000000      5.000000   1461.000000      4.000000      4.800000    116.000000      6.000000             1.000000           0.000000      0.000000                      1.000000              0.000000           1.000000             0.000000              0.000000                    1.000000                          0.000000                           0.000000             0.000000                  0.000000        0.000000                      0.000000          0.000000                   1.000000         1.000000           0.000000          0.000000                          1.000000              1.000000          0.000000                  1.000000                         0.000000                                0.000000                                0.000000                               1.000000          1.000000        1.000000         0.000000              0.00000             0.000000              1.000000      0.000000           0.000000           0.000000       0.000000  ...      1.000000      0.000000      0.000000      0.000000      0.000000      0.000000      0.000000      0.000000      1.000000      0.000000         0.000000      0.000000      0.000000      0.000000      0.000000           0.000000      0.000000      0.000000           0.000000      0.000000      1.000000      0.000000      0.000000      0.000000       0.000000        0.000000      0.000000      0.000000      0.000000      0.000000      0.000000      0.000000      0.000000        0.000000      1.000000             0.000000             0.000000       0.000000          0.000000       0.000000       1.000000      0.000000       0.000000      0.000000        0.000000      0.000000       0.000000        0.000000      1.000000          2.000000\n",
       "75%    21900.000000   46898.500000    101.000000         1.000000     12.000000      5.000000      5.000000   1598.000000      4.000000      5.400000    127.000000      6.000000             1.000000           0.000000      1.000000                      1.000000              0.000000           1.000000             0.000000              0.000000                    1.000000                          0.000000                           0.000000             0.000000                  0.000000        1.000000                      0.000000          0.000000                   1.000000         1.000000           0.000000          0.000000                          1.000000              1.000000          0.000000                  1.000000                         0.000000                                0.000000                                1.000000                               1.000000          1.000000        1.000000         1.000000              0.00000             0.000000              1.000000      0.000000           0.000000           0.000000       0.000000  ...      1.000000      0.000000      1.000000      1.000000      0.000000      0.000000      0.000000      0.000000      1.000000      0.000000         0.000000      0.000000      0.000000      0.000000      0.000000           0.000000      0.000000      0.000000           0.000000      0.000000      1.000000      0.000000      0.000000      0.000000       0.000000        0.000000      0.000000      0.000000      0.000000      0.000000      0.000000      0.000000      0.000000        0.000000      1.000000             0.000000             0.000000       0.000000          0.000000       0.000000       1.000000      0.000000       0.000000      0.000000        0.000000      0.000000       0.000000        0.000000      2.000000          3.000000\n",
       "max    37870.000000  137066.000000    147.000000         4.000000     72.000000      5.000000      7.000000   1997.000000      4.000000      7.100000    156.000000      8.000000             1.000000           1.000000      1.000000                      1.000000              1.000000           1.000000             1.000000              1.000000                    1.000000                          1.000000                           1.000000             1.000000                  1.000000        1.000000                      1.000000          1.000000                   1.000000         1.000000           1.000000          1.000000                          1.000000              1.000000          1.000000                  1.000000                         1.000000                                1.000000                                1.000000                               1.000000          1.000000        1.000000         1.000000              1.00000             1.000000              1.000000      1.000000           1.000000           1.000000       1.000000  ...      1.000000      1.000000      1.000000      1.000000      1.000000      1.000000      1.000000      1.000000      1.000000      1.000000         1.000000      1.000000      1.000000      1.000000      1.000000           1.000000      1.000000      1.000000           1.000000      1.000000      1.000000      1.000000      1.000000      1.000000       1.000000        1.000000      1.000000      1.000000      1.000000      1.000000      1.000000      1.000000      1.000000        1.000000      1.000000             1.000000             1.000000       1.000000          1.000000       1.000000       1.000000      1.000000       1.000000      1.000000        1.000000      1.000000       1.000000        1.000000      3.000000          5.000000\n",
       "\n",
       "[8 rows x 214 columns]"
      ]
     },
     "execution_count": 193,
     "metadata": {},
     "output_type": "execute_result"
    }
   ],
   "source": [
    "df.describe()"
   ]
  },
  {
   "cell_type": "code",
   "execution_count": null,
   "metadata": {
    "scrolled": true
   },
   "outputs": [],
   "source": [
    "df"
   ]
  },
  {
   "cell_type": "code",
   "execution_count": 295,
   "metadata": {},
   "outputs": [],
   "source": [
    "df.to_csv(\"autoproject.csv\", index=False)"
   ]
  }
 ],
 "metadata": {
  "kernelspec": {
   "display_name": "Python 3",
   "language": "python",
   "name": "python3"
  },
  "language_info": {
   "codemirror_mode": {
    "name": "ipython",
    "version": 3
   },
   "file_extension": ".py",
   "mimetype": "text/x-python",
   "name": "python",
   "nbconvert_exporter": "python",
   "pygments_lexer": "ipython3",
   "version": "3.8.3"
  }
 },
 "nbformat": 4,
 "nbformat_minor": 4
}
